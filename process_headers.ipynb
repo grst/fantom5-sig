{
 "cells": [
  {
   "cell_type": "code",
   "execution_count": 9,
   "metadata": {
    "collapsed": false
   },
   "outputs": [],
   "source": [
    "import pandas as pd\n",
    "from itertools import repeat\n",
    "import re\n",
    "from orangecontrib.bio.ontology import OBOOntology"
   ]
  },
  {
   "cell_type": "markdown",
   "metadata": {},
   "source": [
    "### Read column headers from fantom5 data. \n",
    "Read the column headers and extract sample information from it. "
   ]
  },
  {
   "cell_type": "code",
   "execution_count": 47,
   "metadata": {
    "collapsed": false
   },
   "outputs": [
    {
     "name": "stdout",
     "output_type": "stream",
     "text": [
      "column_vars.txt\t\t\t\t   human_samples_nature13182-s2\r\n",
      "fantom5_ds.txt\t\t\t\t   samples1829\r\n",
      "fantom5_head2000.txt\t\t\t   samples1829_LIBRARY_IDs\r\n",
      "ff-phase2-140729.obo.txt\t\t   samples1829_simplified\r\n",
      "hg19.cage_peak_phase1and2combined_ann.txt\r\n"
     ]
    }
   ],
   "source": [
    "!ls data"
   ]
  },
  {
   "cell_type": "code",
   "execution_count": 62,
   "metadata": {
    "collapsed": false
   },
   "outputs": [
    {
     "name": "stdout",
     "output_type": "stream",
     "text": [
      "CAGE peak id\n",
      "short form of the description below. Common descriptions in the long descriptions has been omited\n",
      "description of the CAGE peak\n",
      "transcript which 5end is the nearest to the the CAGE peak\n",
      "entrezgene (genes) id associated with the transcript\n",
      "hgnc (gene symbol) id associated with the transcript\n",
      "uniprot (protein) id associated with the transcript\n",
      "tpm of 293SLAM rinderpest infection, 00hr, biol_rep1.CNhs14406.13541-145H4\n",
      "tpm of 293SLAM rinderpest infection, 00hr, biol_rep2.CNhs14407.13542-145H5\n",
      "tpm of 293SLAM rinderpest infection, 00hr, biol_rep3.CNhs14408.13543-145H6\n",
      "cut: write error: Broken pipe\n"
     ]
    }
   ],
   "source": [
    "!grep \"^##ColumnVariables\" data/fantom5_ds.txt | cut -d\"=\" -f2 | head"
   ]
  },
  {
   "cell_type": "code",
   "execution_count": 64,
   "metadata": {
    "collapsed": false
   },
   "outputs": [
    {
     "name": "stdout",
     "output_type": "stream",
     "text": [
      "tpm of 293SLAM rinderpest infection, 00hr, biol_rep1.CNhs14406.13541-145H4\n",
      "tpm of 293SLAM rinderpest infection, 00hr, biol_rep2.CNhs14407.13542-145H5\n",
      "tpm of 293SLAM rinderpest infection, 00hr, biol_rep3.CNhs14408.13543-145H6\n",
      "tpm of 293SLAM rinderpest infection, 06hr, biol_rep1.CNhs14410.13544-145H7\n",
      "tpm of 293SLAM rinderpest infection, 06hr, biol_rep2.CNhs14411.13545-145H8\n",
      "tpm of 293SLAM rinderpest infection, 06hr, biol_rep3.CNhs14412.13546-145H9\n",
      "tpm of 293SLAM rinderpest infection, 12hr, biol_rep1.CNhs14413.13547-145I1\n",
      "tpm of 293SLAM rinderpest infection, 12hr, biol_rep2.CNhs14414.13548-145I2\n",
      "tpm of 293SLAM rinderpest infection, 12hr, biol_rep3.CNhs14415.13549-145I3\n",
      "tpm of 293SLAM rinderpest infection, 24hr, biol_rep1.CNhs14416.13550-145I4\n",
      "tail: write error: Broken pipe\n",
      "tail: write error\n",
      "cut: write error: Broken pipe\n"
     ]
    }
   ],
   "source": [
    "!grep \"^##ColumnVariables\" data/fantom5_ds.txt | cut -d\"=\" -f2 | tail -n+8 | head"
   ]
  },
  {
   "cell_type": "code",
   "execution_count": 66,
   "metadata": {
    "collapsed": false
   },
   "outputs": [],
   "source": [
    "!grep \"^##ColumnVariables\" data/fantom5_ds.txt | cut -d\"=\" -f2 | tail -n+8 > data/column_vars.txt"
   ]
  },
  {
   "cell_type": "code",
   "execution_count": 67,
   "metadata": {
    "collapsed": true
   },
   "outputs": [],
   "source": [
    "sample_info = !cat data/column_vars.txt"
   ]
  },
  {
   "cell_type": "code",
   "execution_count": 68,
   "metadata": {
    "collapsed": false
   },
   "outputs": [
    {
     "data": {
      "text/plain": [
       "['tpm of 293SLAM rinderpest infection, 00hr, biol_rep1.CNhs14406.13541-145H4',\n",
       " 'tpm of 293SLAM rinderpest infection, 00hr, biol_rep2.CNhs14407.13542-145H5',\n",
       " 'tpm of 293SLAM rinderpest infection, 00hr, biol_rep3.CNhs14408.13543-145H6',\n",
       " 'tpm of 293SLAM rinderpest infection, 06hr, biol_rep1.CNhs14410.13544-145H7',\n",
       " 'tpm of 293SLAM rinderpest infection, 06hr, biol_rep2.CNhs14411.13545-145H8']"
      ]
     },
     "execution_count": 68,
     "metadata": {},
     "output_type": "execute_result"
    }
   ],
   "source": [
    "sample_info[:5]"
   ]
  },
  {
   "cell_type": "markdown",
   "metadata": {},
   "source": [
    "### Retreiving Information from the ontoloty. \n",
    "\n",
    "The column headers are difficult to parse (inconsistent commata, etc.). \n",
    "We found an ontology on the fantom5 web page. [1]\n",
    "\n",
    "First, we check, if all the ids from the column headers appear in the ontology. \n",
    "\n",
    "[1] http://fantom.gsc.riken.jp/5/datafiles/latest/extra/Ontology/ff-phase2-140729.obo.txt"
   ]
  },
  {
   "cell_type": "code",
   "execution_count": 10,
   "metadata": {
    "collapsed": false
   },
   "outputs": [],
   "source": [
    "OBO_ID_REGEX = re.compile(r'CNhs\\d+.(\\w+)-(\\w+)')"
   ]
  },
  {
   "cell_type": "code",
   "execution_count": 11,
   "metadata": {
    "collapsed": false
   },
   "outputs": [],
   "source": [
    "for info_line in sample_info:\n",
    "    ff_id = \"-\".join(OBO_ID_REGEX.search(info_line).groups())\n",
    "    res = !grep {ff_id} data/ff-phase2-140729.obo.txt \n",
    "    assert len(res) > 0"
   ]
  },
  {
   "cell_type": "markdown",
   "metadata": {},
   "source": [
    "that seems to be the case...\n",
    "\n",
    "#### Try out the Ontology Parser"
   ]
  },
  {
   "cell_type": "code",
   "execution_count": 12,
   "metadata": {
    "collapsed": false
   },
   "outputs": [],
   "source": [
    "obo = OBOOntology()\n",
    "obo.load(open(\"data/ff-phase2-140729.obo.txt\"))"
   ]
  },
  {
   "cell_type": "code",
   "execution_count": 13,
   "metadata": {
    "collapsed": false
   },
   "outputs": [
    {
     "name": "stdout",
     "output_type": "stream",
     "text": [
      "[('id', 'FF:1394-42H2', None, None), ('name', 'lung, neonate N30, rep1', None, None), ('namespace', 'FANTOM5', None, None), ('subset', 'phase1', None, None), ('subset', 'phase2', None, None), ('subset', 'update022', None, None), ('is_a', 'EFO:0002091', None, 'biological replicate'), ('is_a', 'FF:0011489', None, 'mouse lung- neonate N30 sample')]\n"
     ]
    }
   ],
   "source": [
    "print(obo.term(\"FF:1394-42H2\").tags())"
   ]
  },
  {
   "cell_type": "code",
   "execution_count": 15,
   "metadata": {
    "collapsed": false
   },
   "outputs": [
    {
     "data": {
      "text/plain": [
       "'lung, neonate N30, rep1'"
      ]
     },
     "execution_count": 15,
     "metadata": {},
     "output_type": "execute_result"
    }
   ],
   "source": [
    "obo.term(\"FF:1394-42H2\").name"
   ]
  },
  {
   "cell_type": "markdown",
   "metadata": {},
   "source": [
    "#### Parse the ontology. \n",
    "\n",
    "at least, we don't run into massive comma-parsing trouble again. There remain issues, though:\n",
    "* sometimes, the time/donor/replicate is not annotated using the ontology but only appears in the 'name'. In that case parse using regex and check if it is consistent with the ongology annotation, if available. \n",
    "* I need to figure out a way how to determine the cell type from the name. Is it enough to rely on the 'derives_from' annotation? "
   ]
  },
  {
   "cell_type": "code",
   "execution_count": 33,
   "metadata": {
    "collapsed": false
   },
   "outputs": [],
   "source": [
    "OBO_ID_REGEX = re.compile(r'CNhs\\d+.(\\w+)-(\\w+)')\n",
    "LIB_ID_REGEX = re.compile(r'CNhs(\\d+)')\n",
    "TIME_REGEX = re.compile(r'(\\d+)(hr|min)|day(\\d+)')\n",
    "DONOR_REGEX = re.compile(r'donor(\\d+)')\n",
    "REPLICATE_REGEX = re.compile(r'((biol|tech)_)?rep(\\d+)')\n",
    "def get_rex_value(regex, str): \n",
    "    try: \n",
    "        return regex.search(str).group()\n",
    "    except AttributeError:\n",
    "        return None\n",
    "\n",
    "# Here we want the exception to throw \n",
    "def get_obo_id(str): \n",
    "    return \"FF:\" + \"-\".join(OBO_ID_REGEX.search(str).groups())\n",
    "def get_lib_id(str):\n",
    "    return LIB_ID_REGEX.search(str).group()\n",
    "\n",
    "# Here, we don't\n",
    "def get_time(str):\n",
    "    return get_rex_value(TIME_REGEX, str)\n",
    "def get_donor(str):\n",
    "    return get_rex_value(DONOR_REGEX, str)\n",
    "def get_replicate(str):\n",
    "    return get_rex_value(REPLICATE_REGEX, str)"
   ]
  },
  {
   "cell_type": "code",
   "execution_count": 26,
   "metadata": {
    "collapsed": false
   },
   "outputs": [],
   "source": [
    "assert get_obo_id(\"tpm of 293SLAM rinderpest infection, 00hr, biol_rep1.CNhs14406.13541-145H4\") == \"13541-145H4\"\n",
    "assert get_lib_id(\"tpm of 293SLAM rinderpest infection, 00hr, biol_rep1.CNhs14406.13541-145H4\") == \"CNhs14406\"\n",
    "assert get_time(\"tpm of 293SLAM rinderpestday01 infectionday01, 00hr, biol_rep1.CNhs14406.13541-145H4\") == \"day01\"\n",
    "assert get_time(\"tpm of 293SLAM rinderpestdayd01 infectionddady01, 00hr, biol_rep1.CNhs14406.13541-145H4\") == \"00hr\"\n",
    "assert get_time(\"tpm of 293SLAM rinderpestdayd01 infectionddady01, 15min biol_rep1.CNhs14406.13541-145H4\") == \"15min\"\n",
    "assert get_donor(\"tpm of 293SLAM rinderpestdayd01 infection, 00hr, donor1, biol_rep1.CNhs14406.13541-145H4\") == \"donor1\"\n",
    "assert get_replicate(\"tpm of 293SLAM rinderpestdayd01 infection, 00hr, donor1, biol_rep1.CNhs14406.13541-145H4\") == \"biol_rep1\"\n",
    "assert get_replicate(\"tpm of 293SLAM rinderpestdayd01 infection, 00hr, donor1, rep1.CNhs14406.13541-145H4\") == \"rep1\"\n",
    "assert get_donor(\"tpm of 293SLAM rinderpestdayd01 infection, 00hr, dondor1, biol_rep1.CNhs14406.13541-145H4\") is None"
   ]
  },
  {
   "cell_type": "markdown",
   "metadata": {},
   "source": [
    "Get ontology structure for time/donor/replicate"
   ]
  },
  {
   "cell_type": "code",
   "execution_count": 27,
   "metadata": {
    "collapsed": true
   },
   "outputs": [],
   "source": [
    "def contains_term(term, tag_name, tag_value):\n",
    "    \"\"\"Check if a set of tags (from a certain term) contains a certain annotation (e.g. is_a: 24-hour-sample)\"\"\"\n",
    "    return any(a == tag_name and b == tag_value for a, b in term.tags())"
   ]
  },
  {
   "cell_type": "code",
   "execution_count": 57,
   "metadata": {
    "collapsed": true
   },
   "outputs": [],
   "source": [
    "hour_terms = [term.id for term in obo.child_terms(\"UO:0000032\")]\n",
    "minute_terms = [term.id for term in obo.child_terms(\"UO:0000031\")]\n",
    "day_terms = [term.id for term in obo.child_terms(\"UO:0000033\")]\n",
    "tech_rep = \"EFO:0002090\"\n",
    "biol_rep = \"EFO:0002091\""
   ]
  },
  {
   "cell_type": "code",
   "execution_count": 56,
   "metadata": {
    "collapsed": true
   },
   "outputs": [],
   "source": [
    "NO_REGEX = re.compile(r'(\\d+)')\n",
    "def compare_time(string, obo_id): \n",
    "    \"\"\" return true if the two times are considered to be identical. \"\"\"\n",
    "    if 'day' in string: \n",
    "        if obo_term not in day_terms:\n",
    "            return False\n",
    "    if 'hr' in string:\n",
    "        if obo_term not in hour_terms:\n",
    "            return False\n",
    "    if 'min' in string:\n",
    "        if obo_term not in minute_terms:\n",
    "            return False\n",
    "    term_name = obo.term(obo_id).name\n",
    "    if NO_REGEX.search(string).group() == NO_REGEX.search(term_name).group(): \n",
    "        return True\n",
    "    else: \n",
    "        return False"
   ]
  },
  {
   "cell_type": "code",
   "execution_count": 58,
   "metadata": {
    "collapsed": true
   },
   "outputs": [],
   "source": [
    "def compare_replicates(string, obo_id): \n",
    "    \"\"\"return true, if the replicate type is considered to be identical\"\"\"\n",
    "    if \"tech_rep\" in string and obo_id == tech_rep:\n",
    "        return True\n",
    "    elif \"biol_rep\" in string and obo_id == biol_rep:\n",
    "        return True\n",
    "    else:\n",
    "        return False"
   ]
  },
  {
   "cell_type": "code",
   "execution_count": 60,
   "metadata": {
    "collapsed": false
   },
   "outputs": [
    {
     "ename": "AssertionError",
     "evalue": "mismatching times: 00hr, FF:0000357",
     "output_type": "error",
     "traceback": [
      "\u001b[1;31m---------------------------------------------------------------------------\u001b[0m",
      "\u001b[1;31mAssertionError\u001b[0m                            Traceback (most recent call last)",
      "\u001b[1;32m<ipython-input-60-21d2faa76047>\u001b[0m in \u001b[0;36m<module>\u001b[1;34m()\u001b[0m\n\u001b[0;32m     33\u001b[0m         \u001b[0mannot\u001b[0m\u001b[1;33m[\u001b[0m\u001b[1;34m\"donor\"\u001b[0m\u001b[1;33m]\u001b[0m \u001b[1;33m=\u001b[0m \u001b[0mdonor_n\u001b[0m\u001b[1;33m\u001b[0m\u001b[0m\n\u001b[0;32m     34\u001b[0m     \u001b[1;32mif\u001b[0m \u001b[0mtime_n\u001b[0m \u001b[1;32mand\u001b[0m \u001b[0mtime_o\u001b[0m\u001b[1;33m:\u001b[0m\u001b[1;33m\u001b[0m\u001b[0m\n\u001b[1;32m---> 35\u001b[1;33m         \u001b[1;32massert\u001b[0m \u001b[0mcompare_time\u001b[0m\u001b[1;33m(\u001b[0m\u001b[0mtime_n\u001b[0m\u001b[1;33m,\u001b[0m \u001b[0mtime_o\u001b[0m\u001b[1;33m)\u001b[0m\u001b[1;33m,\u001b[0m \u001b[1;34m\"mismatching times: {0}, {1}\"\u001b[0m\u001b[1;33m.\u001b[0m\u001b[0mformat\u001b[0m\u001b[1;33m(\u001b[0m\u001b[0mtime_n\u001b[0m\u001b[1;33m,\u001b[0m \u001b[0mtime_o\u001b[0m\u001b[1;33m)\u001b[0m\u001b[1;33m\u001b[0m\u001b[0m\n\u001b[0m\u001b[0;32m     36\u001b[0m     \u001b[1;32mif\u001b[0m \u001b[0mreplicate_n\u001b[0m \u001b[1;32mand\u001b[0m \u001b[0mreplicate_o\u001b[0m\u001b[1;33m:\u001b[0m\u001b[1;33m\u001b[0m\u001b[0m\n\u001b[0;32m     37\u001b[0m         \u001b[1;32massert\u001b[0m \u001b[0mcompare_replicates\u001b[0m\u001b[1;33m(\u001b[0m\u001b[0mreplicate_n\u001b[0m\u001b[1;33m,\u001b[0m \u001b[0mreplicate_o\u001b[0m\u001b[1;33m)\u001b[0m\u001b[1;33m,\u001b[0m \u001b[1;34m\"mismatching replicates: {0}, {1}\"\u001b[0m\u001b[1;33m.\u001b[0m\u001b[0mformat\u001b[0m\u001b[1;33m(\u001b[0m\u001b[0mreplicate_n\u001b[0m\u001b[1;33m,\u001b[0m \u001b[0mreplicate_o\u001b[0m\u001b[1;33m)\u001b[0m\u001b[1;33m\u001b[0m\u001b[0m\n",
      "\u001b[1;31mAssertionError\u001b[0m: mismatching times: 00hr, FF:0000357"
     ]
    }
   ],
   "source": [
    "for info_line in sample_info[:1]: \n",
    "    obo_id = get_obo_id(info_line)\n",
    "    obo_term = obo.term(obo_id)\n",
    "    tags = obo_term.tags()\n",
    "    name = obo_term.name\n",
    "    annot = {}\n",
    "    annot[\"name\"] = name\n",
    "    # values parsed from name\n",
    "    donor_n = get_donor(name)\n",
    "    time_n = get_time(name)\n",
    "    replicate_n = get_replicate(name)\n",
    "    # values parsed from ontology \n",
    "    replicate_o = None\n",
    "    time_o = None\n",
    "    for tag, tag_value, _, _ in tags: \n",
    "        if tag == \"is_a\": \n",
    "            if tag_value == tech_rep: \n",
    "                assert replicate_o is None, 'multiple matches'\n",
    "                replicate_o = tech_rep\n",
    "            if tag_value == biol_rep:\n",
    "                assert replicate_o is None, 'multiple matches'\n",
    "                replicate_o = biol_rep\n",
    "            if tag_value in hour_terms:\n",
    "                assert time_o is None, 'multiple matches'\n",
    "                time_o = tag_value\n",
    "            if tag_value in minute_terms:\n",
    "                assert time_o is None, 'multiple matches'\n",
    "                time_o = tag_value\n",
    "            if tag_value in day_terms:\n",
    "                assert time_o is None, 'multiple matches'\n",
    "                time_o = tag_value\n",
    "    if donor_n: \n",
    "        annot[\"donor\"] = donor_n\n",
    "    if time_n and time_o: \n",
    "        assert compare_time(time_n, time_o), \"mismatching times: {0}, {1}\".format(time_n, time_o)\n",
    "    if replicate_n and replicate_o: \n",
    "        assert compare_replicates(replicate_n, replicate_o), \"mismatching replicates: {0}, {1}\".format(replicate_n, replicate_o)\n",
    "    "
   ]
  },
  {
   "cell_type": "code",
   "execution_count": 61,
   "metadata": {
    "collapsed": false
   },
   "outputs": [
    {
     "data": {
      "text/plain": [
       "False"
      ]
     },
     "execution_count": 61,
     "metadata": {},
     "output_type": "execute_result"
    }
   ],
   "source": [
    "compare_time(\"00hr\", \"FF:0000357\")"
   ]
  },
  {
   "cell_type": "code",
   "execution_count": 55,
   "metadata": {
    "collapsed": false
   },
   "outputs": [
    {
     "data": {
      "text/plain": [
       "'FF:0000357'"
      ]
     },
     "execution_count": 55,
     "metadata": {},
     "output_type": "execute_result"
    }
   ],
   "source": [
    "time_o"
   ]
  },
  {
   "cell_type": "code",
   "execution_count": 47,
   "metadata": {
    "collapsed": false
   },
   "outputs": [
    {
     "data": {
      "text/plain": [
       "dict_values([OBOObject(id='FF:0000357', name=0 hr sample, ...), OBOObject(id='FF:0000358', name=1 hr sample, ...), OBOObject(id='FF:0000657', name=66 hr sample, ...), OBOObject(id='FF:0000360', name=3 hr sample, ...), OBOObject(id='FF:0000361', name=4 hr sample, ...), OBOObject(id='FF:0000362', name=5 hr sample, ...), OBOObject(id='FF:0000363', name=6 hr sample, ...), OBOObject(id='FF:0000364', name=7 hr sample, ...), OBOObject(id='FF:0000376', name=72 hr sample, ...), OBOObject(id='FF:0000366', name=10 hr sample, ...), OBOObject(id='FF:0000367', name=12 hr sample, ...), OBOObject(id='FF:0000359', name=2 hr sample, ...), OBOObject(id='FF:0000368', name=14 hr sample, ...), OBOObject(id='FF:0000379', name=144 hr sample, ...), OBOObject(id='FF:0000370', name=18 hr sample, ...), OBOObject(id='FF:0000371', name=20 hr sample, ...), OBOObject(id='FF:0000372', name=22 hr sample, ...), OBOObject(id='FF:0000373', name=24 hr sample, ...), OBOObject(id='FF:0300028', name=28 hr sample, ...), OBOObject(id='FF:0000653', name=30 hr sample, ...), OBOObject(id='FF:0000377', name=96 hr sample, ...), OBOObject(id='FF:0000369', name=16 hr sample, ...), OBOObject(id='FF:0000374', name=36 hr sample, ...), OBOObject(id='FF:0000654', name=42 hr sample, ...), OBOObject(id='FF:0000375', name=48 hr sample, ...), OBOObject(id='FF:0000365', name=8 hr sample, ...), OBOObject(id='FF:0000655', name=54 hr sample, ...), OBOObject(id='FF:0000378', name=120 hr sample, ...), OBOObject(id='FF:0000658', name=84 hr sample, ...), OBOObject(id='FF:0000656', name=60 hr sample, ...)])"
      ]
     },
     "execution_count": 47,
     "metadata": {},
     "output_type": "execute_result"
    }
   ],
   "source": [
    "hour_terms.values()"
   ]
  },
  {
   "cell_type": "code",
   "execution_count": null,
   "metadata": {
    "collapsed": true
   },
   "outputs": [],
   "source": []
  }
 ],
 "metadata": {
  "kernelspec": {
   "display_name": "Python 3",
   "language": "python",
   "name": "python3"
  },
  "language_info": {
   "codemirror_mode": {
    "name": "ipython",
    "version": 3
   },
   "file_extension": ".py",
   "mimetype": "text/x-python",
   "name": "python",
   "nbconvert_exporter": "python",
   "pygments_lexer": "ipython3",
   "version": "3.5.1"
  }
 },
 "nbformat": 4,
 "nbformat_minor": 0
}
