{
 "cells": [
  {
   "cell_type": "code",
   "execution_count": 1,
   "metadata": {
    "collapsed": false
   },
   "outputs": [],
   "source": [
    "import pandas as pd\n",
    "from itertools import repeat\n",
    "import re\n",
    "from orangecontrib.bio.ontology import OBOOntology\n",
    "import logging\n",
    "%load_ext autoreload\n",
    "%autoreload 1\n",
    "%aimport parse_ontology\n",
    "from parse_ontology import *\n",
    "pd.set_option('display.max_colwidth', -1)"
   ]
  },
  {
   "cell_type": "code",
   "execution_count": 2,
   "metadata": {
    "collapsed": true
   },
   "outputs": [],
   "source": [
    "def enable_logging(): \n",
    "    logger = logging.getLogger()\n",
    "    logger.setLevel(logging.DEBUG)\n",
    "    fh = logging.FileHandler('data/process_sample_descriptions.log')\n",
    "    fh.setLevel(logging.DEBUG)\n",
    "    formatter = logging.Formatter(\"%(asctime)s - %(name)s - %(levelname)s - %(message)s\")\n",
    "    fh.setFormatter(formatter)\n",
    "    logger.removeHandler(logger.handlers[0]) # remove the stream handler\n",
    "    logger.addHandler(fh)"
   ]
  },
  {
   "cell_type": "markdown",
   "metadata": {},
   "source": [
    "### Read column headers from fantom5 data. \n",
    "Read the column headers and extract sample information from it. "
   ]
  },
  {
   "cell_type": "code",
   "execution_count": 3,
   "metadata": {
    "collapsed": false
   },
   "outputs": [
    {
     "name": "stdout",
     "output_type": "stream",
     "text": [
      "annotation_notes.csv\t   hg19.cage_peak_phase1and2combined_ann.txt\r\n",
      "column_vars.processed.csv  hg19.cage_peak_phase1and2combined_tpm_ann.osc.txt\r\n",
      "column_vars.txt\t\t   human_samples_nature13182-s2\r\n",
      "f5_expressionset.Rdata\t   process_sample_descriptions.log\r\n",
      "fantom5_head2000.txt\t   samples1829\r\n",
      "fantom5-S1.csv\t\t   samples1829_LIBRARY_IDs\r\n",
      "fantom5-S1.xls\t\t   samples1829_simplified\r\n",
      "ff-phase2-140729.obo\t   subtree_sample.obo\r\n"
     ]
    }
   ],
   "source": [
    "!ls data"
   ]
  },
  {
   "cell_type": "code",
   "execution_count": 4,
   "metadata": {
    "collapsed": false
   },
   "outputs": [
    {
     "name": "stdout",
     "output_type": "stream",
     "text": [
      "CAGE peak id\n",
      "short form of the description below. Common descriptions in the long descriptions has been omited\n",
      "description of the CAGE peak\n",
      "transcript which 5end is the nearest to the the CAGE peak\n",
      "entrezgene (genes) id associated with the transcript\n",
      "hgnc (gene symbol) id associated with the transcript\n",
      "uniprot (protein) id associated with the transcript\n",
      "tpm of 293SLAM rinderpest infection, 00hr, biol_rep1.CNhs14406.13541-145H4\n",
      "tpm of 293SLAM rinderpest infection, 00hr, biol_rep2.CNhs14407.13542-145H5\n",
      "tpm of 293SLAM rinderpest infection, 00hr, biol_rep3.CNhs14408.13543-145H6\n",
      "cut: write error: Broken pipe\n"
     ]
    }
   ],
   "source": [
    "!grep \"^##ColumnVariables\" data/hg19.cage_peak_phase1and2combined_tpm_ann.osc.txt | cut -d\"=\" -f2 | head"
   ]
  },
  {
   "cell_type": "code",
   "execution_count": 5,
   "metadata": {
    "collapsed": false
   },
   "outputs": [
    {
     "name": "stdout",
     "output_type": "stream",
     "text": [
      "tpm of 293SLAM rinderpest infection, 00hr, biol_rep1.CNhs14406.13541-145H4\n",
      "tpm of 293SLAM rinderpest infection, 00hr, biol_rep2.CNhs14407.13542-145H5\n",
      "tpm of 293SLAM rinderpest infection, 00hr, biol_rep3.CNhs14408.13543-145H6\n",
      "tpm of 293SLAM rinderpest infection, 06hr, biol_rep1.CNhs14410.13544-145H7\n",
      "tpm of 293SLAM rinderpest infection, 06hr, biol_rep2.CNhs14411.13545-145H8\n",
      "tpm of 293SLAM rinderpest infection, 06hr, biol_rep3.CNhs14412.13546-145H9\n",
      "tpm of 293SLAM rinderpest infection, 12hr, biol_rep1.CNhs14413.13547-145I1\n",
      "tpm of 293SLAM rinderpest infection, 12hr, biol_rep2.CNhs14414.13548-145I2\n",
      "tpm of 293SLAM rinderpest infection, 12hr, biol_rep3.CNhs14415.13549-145I3\n",
      "tpm of 293SLAM rinderpest infection, 24hr, biol_rep1.CNhs14416.13550-145I4\n",
      "tail: write error: Broken pipe\n",
      "tail: write error\n",
      "cut: write error: Broken pipe\n"
     ]
    }
   ],
   "source": [
    "!grep \"^##ColumnVariables\" data/hg19.cage_peak_phase1and2combined_tpm_ann.osc.txt | cut -d\"=\" -f2 | tail -n+8 | head"
   ]
  },
  {
   "cell_type": "code",
   "execution_count": 6,
   "metadata": {
    "collapsed": false
   },
   "outputs": [],
   "source": [
    "!grep \"^##ColumnVariables\" data/hg19.cage_peak_phase1and2combined_tpm_ann.osc.txt | cut -d\"=\" -f2 | tail -n+8 > data/column_vars.txt"
   ]
  },
  {
   "cell_type": "code",
   "execution_count": 7,
   "metadata": {
    "collapsed": true
   },
   "outputs": [],
   "source": [
    "sample_infos = !cat data/column_vars.txt"
   ]
  },
  {
   "cell_type": "code",
   "execution_count": 8,
   "metadata": {
    "collapsed": false
   },
   "outputs": [
    {
     "data": {
      "text/plain": [
       "['tpm of 293SLAM rinderpest infection, 00hr, biol_rep1.CNhs14406.13541-145H4',\n",
       " 'tpm of 293SLAM rinderpest infection, 00hr, biol_rep2.CNhs14407.13542-145H5',\n",
       " 'tpm of 293SLAM rinderpest infection, 00hr, biol_rep3.CNhs14408.13543-145H6',\n",
       " 'tpm of 293SLAM rinderpest infection, 06hr, biol_rep1.CNhs14410.13544-145H7',\n",
       " 'tpm of 293SLAM rinderpest infection, 06hr, biol_rep2.CNhs14411.13545-145H8']"
      ]
     },
     "execution_count": 8,
     "metadata": {},
     "output_type": "execute_result"
    }
   ],
   "source": [
    "sample_infos[:5]"
   ]
  },
  {
   "cell_type": "markdown",
   "metadata": {},
   "source": [
    "### Retreiving Information from the ontoloty. \n",
    "\n",
    "The column headers are difficult to parse (inconsistent commata, etc.). \n",
    "We found an ontology on the fantom5 web page. [1]\n",
    "\n",
    "First, we check, if all the ids from the column headers appear in the ontology. \n",
    "\n",
    "[1] http://fantom.gsc.riken.jp/5/datafiles/latest/extra/Ontology/ff-phase2-140729.obo.txt"
   ]
  },
  {
   "cell_type": "code",
   "execution_count": 9,
   "metadata": {
    "collapsed": false
   },
   "outputs": [],
   "source": [
    "OBO_ID_REGEX = re.compile(r'CNhs\\d+.(\\w+)-(\\w+)')"
   ]
  },
  {
   "cell_type": "code",
   "execution_count": 10,
   "metadata": {
    "collapsed": false
   },
   "outputs": [],
   "source": [
    "for info_line in sample_infos:\n",
    "    ff_id = \"-\".join(OBO_ID_REGEX.search(info_line).groups())\n",
    "    res = !grep {ff_id} data/ff-phase2-140729.obo.txt \n",
    "    assert len(res) > 0"
   ]
  },
  {
   "cell_type": "markdown",
   "metadata": {},
   "source": [
    "that seems to be the case...\n",
    "\n",
    "#### Try out the Ontology Parser"
   ]
  },
  {
   "cell_type": "code",
   "execution_count": 11,
   "metadata": {
    "collapsed": false
   },
   "outputs": [],
   "source": [
    "obo = OBOOntology()\n",
    "obo.load(open(\"data/ff-phase2-140729.obo\"))"
   ]
  },
  {
   "cell_type": "code",
   "execution_count": 12,
   "metadata": {
    "collapsed": false
   },
   "outputs": [
    {
     "name": "stdout",
     "output_type": "stream",
     "text": [
      "[('id', 'FF:1394-42H2', None, None), ('name', 'lung, neonate N30, rep1', None, None), ('namespace', 'FANTOM5', None, None), ('subset', 'phase1', None, None), ('subset', 'phase2', None, None), ('subset', 'update022', None, None), ('is_a', 'EFO:0002091', None, 'biological replicate'), ('is_a', 'FF:0011489', None, 'mouse lung- neonate N30 sample')]\n"
     ]
    }
   ],
   "source": [
    "print(obo.term(\"FF:1394-42H2\").tags())"
   ]
  },
  {
   "cell_type": "code",
   "execution_count": 13,
   "metadata": {
    "collapsed": false
   },
   "outputs": [
    {
     "data": {
      "text/plain": [
       "'lung, neonate N30, rep1'"
      ]
     },
     "execution_count": 13,
     "metadata": {},
     "output_type": "execute_result"
    }
   ],
   "source": [
    "obo.term(\"FF:1394-42H2\").name"
   ]
  },
  {
   "cell_type": "markdown",
   "metadata": {},
   "source": [
    "#### Are all 'samples' annotated as some sort of sample? "
   ]
  },
  {
   "cell_type": "code",
   "execution_count": 14,
   "metadata": {
    "collapsed": false
   },
   "outputs": [],
   "source": [
    "sample = \"FF:0000001\" # most general sample id \n",
    "for info_line in sample_infos[:2]: \n",
    "    ff_id = \"FF:\" + \"-\".join(OBO_ID_REGEX.search(info_line).groups())\n",
    "    ids = [term.id for term in obo.super_terms(ff_id)]\n",
    "    assert sample in ids"
   ]
  },
  {
   "cell_type": "markdown",
   "metadata": {},
   "source": [
    "seems to be the case, too"
   ]
  },
  {
   "cell_type": "markdown",
   "metadata": {},
   "source": [
    "## Parse the ontology. \n",
    "Using the ontology, we at least don't run into massive comma-parsing trouble again. \n",
    "I wrote the python module `parse_ontology.py`. It takes care of\n",
    "* make sure that there is no inconsistent information between ontology and the sample name (aka. `sample_infos`)\n",
    "* if information is missing in the ontology, complement it with information from the sample name.\n",
    "* In such a case, write an entry to `annot_notes`, that we can improve the ontology later on. "
   ]
  },
  {
   "cell_type": "markdown",
   "metadata": {},
   "source": [
    "#### Replicates\n",
    "* There are technical and biological replicates. \n",
    "* Technical replicates have the same obo_id (`FF:?????-?????`), but different library ids (`CNhs??????`). \n",
    "* The library id is unique. \n",
    "* We can identify biological replicates from the sample name with the keywords `biol_rep`, `rep` and `donor`. Having different donors is also a way of having biological replicates. \n",
    "\n",
    "As this would be redundant information, we would expect no sample to have both 'biol_rep' and 'donor' in the sample name: "
   ]
  },
  {
   "cell_type": "code",
   "execution_count": 15,
   "metadata": {
    "collapsed": false
   },
   "outputs": [
    {
     "data": {
      "text/plain": [
       "[]"
      ]
     },
     "execution_count": 15,
     "metadata": {},
     "output_type": "execute_result"
    }
   ],
   "source": [
    "[x for x in sample_infos if get_donor(x) is not None and get_biol_replicate(x) is not None ]"
   ]
  },
  {
   "cell_type": "markdown",
   "metadata": {},
   "source": [
    "That seems to be the case. \n",
    "\n",
    "Let's now do the parsing and store the processed information as `csv` files. "
   ]
  },
  {
   "cell_type": "code",
   "execution_count": 16,
   "metadata": {
    "collapsed": false
   },
   "outputs": [],
   "source": [
    "enable_logging()"
   ]
  },
  {
   "cell_type": "code",
   "execution_count": 17,
   "metadata": {
    "collapsed": false,
    "scrolled": false
   },
   "outputs": [],
   "source": [
    "annot_notes = []\n",
    "annotations = [process_sample_description(obo, sample_info, annot_notes) for sample_info in sample_infos]"
   ]
  },
  {
   "cell_type": "code",
   "execution_count": 18,
   "metadata": {
    "collapsed": false
   },
   "outputs": [],
   "source": [
    "annotations_df = pd.DataFrame(annotations)\n",
    "annot_notes_df = pd.DataFrame(annot_notes)"
   ]
  },
  {
   "cell_type": "code",
   "execution_count": 19,
   "metadata": {
    "collapsed": false,
    "scrolled": false
   },
   "outputs": [
    {
     "data": {
      "text/html": [
       "<div>\n",
       "<table border=\"1\" class=\"dataframe\">\n",
       "  <thead>\n",
       "    <tr style=\"text-align: right;\">\n",
       "      <th></th>\n",
       "      <th>biol_rep</th>\n",
       "      <th>donor</th>\n",
       "      <th>lib_id</th>\n",
       "      <th>name</th>\n",
       "      <th>name_orig</th>\n",
       "      <th>obo_id</th>\n",
       "      <th>tech_rep</th>\n",
       "      <th>time</th>\n",
       "    </tr>\n",
       "  </thead>\n",
       "  <tbody>\n",
       "    <tr>\n",
       "      <th>1824</th>\n",
       "      <td>True</td>\n",
       "      <td>None</td>\n",
       "      <td>CNhs11676</td>\n",
       "      <td>uterus, adult, pool1</td>\n",
       "      <td>tpm of uterus, adult, pool1.CNhs11676.10100-102D1</td>\n",
       "      <td>FF:10100-102D1</td>\n",
       "      <td>False</td>\n",
       "      <td>None</td>\n",
       "    </tr>\n",
       "    <tr>\n",
       "      <th>1825</th>\n",
       "      <td>True</td>\n",
       "      <td>donor1</td>\n",
       "      <td>CNhs11763</td>\n",
       "      <td>uterus, fetal, donor1</td>\n",
       "      <td>tpm of uterus, fetal, donor1.CNhs11763.10055-101H1</td>\n",
       "      <td>FF:10055-101H1</td>\n",
       "      <td>False</td>\n",
       "      <td>None</td>\n",
       "    </tr>\n",
       "    <tr>\n",
       "      <th>1826</th>\n",
       "      <td>True</td>\n",
       "      <td>None</td>\n",
       "      <td>CNhs12854</td>\n",
       "      <td>vagina, adult, rep1</td>\n",
       "      <td>tpm of vagina, adult.CNhs12854.10204-103F6</td>\n",
       "      <td>FF:10204-103F6</td>\n",
       "      <td>False</td>\n",
       "      <td>None</td>\n",
       "    </tr>\n",
       "    <tr>\n",
       "      <th>1827</th>\n",
       "      <td>True</td>\n",
       "      <td>None</td>\n",
       "      <td>CNhs12844</td>\n",
       "      <td>vein, adult, rep1</td>\n",
       "      <td>tpm of vein, adult.CNhs12844.10191-103E2</td>\n",
       "      <td>FF:10191-103E2</td>\n",
       "      <td>False</td>\n",
       "      <td>None</td>\n",
       "    </tr>\n",
       "    <tr>\n",
       "      <th>1828</th>\n",
       "      <td>True</td>\n",
       "      <td>None</td>\n",
       "      <td>CNhs11813</td>\n",
       "      <td>xeroderma pigentosum b cell line:XPL 17, rep1</td>\n",
       "      <td>tpm of xeroderma pigentosum b cell line:XPL 17.CNhs11813.10563-108A5</td>\n",
       "      <td>FF:10563-108A5</td>\n",
       "      <td>False</td>\n",
       "      <td>None</td>\n",
       "    </tr>\n",
       "  </tbody>\n",
       "</table>\n",
       "</div>"
      ],
      "text/plain": [
       "     biol_rep   donor     lib_id  \\\n",
       "1824  True     None    CNhs11676   \n",
       "1825  True     donor1  CNhs11763   \n",
       "1826  True     None    CNhs12854   \n",
       "1827  True     None    CNhs12844   \n",
       "1828  True     None    CNhs11813   \n",
       "\n",
       "                                               name  \\\n",
       "1824  uterus, adult, pool1                            \n",
       "1825  uterus, fetal, donor1                           \n",
       "1826  vagina, adult, rep1                             \n",
       "1827  vein, adult, rep1                               \n",
       "1828  xeroderma pigentosum b cell line:XPL 17, rep1   \n",
       "\n",
       "                                                                 name_orig  \\\n",
       "1824  tpm of uterus, adult, pool1.CNhs11676.10100-102D1                      \n",
       "1825  tpm of uterus, fetal, donor1.CNhs11763.10055-101H1                     \n",
       "1826  tpm of vagina, adult.CNhs12854.10204-103F6                             \n",
       "1827  tpm of vein, adult.CNhs12844.10191-103E2                               \n",
       "1828  tpm of xeroderma pigentosum b cell line:XPL 17.CNhs11813.10563-108A5   \n",
       "\n",
       "              obo_id tech_rep  time  \n",
       "1824  FF:10100-102D1  False    None  \n",
       "1825  FF:10055-101H1  False    None  \n",
       "1826  FF:10204-103F6  False    None  \n",
       "1827  FF:10191-103E2  False    None  \n",
       "1828  FF:10563-108A5  False    None  "
      ]
     },
     "execution_count": 19,
     "metadata": {},
     "output_type": "execute_result"
    }
   ],
   "source": [
    "annotations_df.tail()"
   ]
  },
  {
   "cell_type": "code",
   "execution_count": 20,
   "metadata": {
    "collapsed": false
   },
   "outputs": [
    {
     "data": {
      "text/html": [
       "<div>\n",
       "<table border=\"1\" class=\"dataframe\">\n",
       "  <thead>\n",
       "    <tr style=\"text-align: right;\">\n",
       "      <th></th>\n",
       "      <th>field_name</th>\n",
       "      <th>lib_id</th>\n",
       "      <th>new_value</th>\n",
       "      <th>obo_id</th>\n",
       "    </tr>\n",
       "  </thead>\n",
       "  <tbody>\n",
       "    <tr>\n",
       "      <th>1024</th>\n",
       "      <td>biol_rep</td>\n",
       "      <td>CNhs14223</td>\n",
       "      <td>donor10258</td>\n",
       "      <td>FF:10370-105G1</td>\n",
       "    </tr>\n",
       "    <tr>\n",
       "      <th>1025</th>\n",
       "      <td>tech_rep</td>\n",
       "      <td>CNhs14223</td>\n",
       "      <td>tech_rep1</td>\n",
       "      <td>FF:10370-105G1</td>\n",
       "    </tr>\n",
       "    <tr>\n",
       "      <th>1026</th>\n",
       "      <td>biol_rep</td>\n",
       "      <td>CNhs14551</td>\n",
       "      <td>donor10258</td>\n",
       "      <td>FF:10370-105G1</td>\n",
       "    </tr>\n",
       "    <tr>\n",
       "      <th>1027</th>\n",
       "      <td>tech_rep</td>\n",
       "      <td>CNhs14551</td>\n",
       "      <td>tech_rep2</td>\n",
       "      <td>FF:10370-105G1</td>\n",
       "    </tr>\n",
       "    <tr>\n",
       "      <th>1028</th>\n",
       "      <td>biol_rep</td>\n",
       "      <td>CNhs14084</td>\n",
       "      <td>donor10223</td>\n",
       "      <td>FF:10366-105F6</td>\n",
       "    </tr>\n",
       "  </tbody>\n",
       "</table>\n",
       "</div>"
      ],
      "text/plain": [
       "     field_name     lib_id   new_value          obo_id\n",
       "1024  biol_rep   CNhs14223  donor10258  FF:10370-105G1\n",
       "1025  tech_rep   CNhs14223  tech_rep1   FF:10370-105G1\n",
       "1026  biol_rep   CNhs14551  donor10258  FF:10370-105G1\n",
       "1027  tech_rep   CNhs14551  tech_rep2   FF:10370-105G1\n",
       "1028  biol_rep   CNhs14084  donor10223  FF:10366-105F6"
      ]
     },
     "execution_count": 20,
     "metadata": {},
     "output_type": "execute_result"
    }
   ],
   "source": [
    "annot_notes_df.tail()"
   ]
  },
  {
   "cell_type": "code",
   "execution_count": 21,
   "metadata": {
    "collapsed": false
   },
   "outputs": [
    {
     "data": {
      "text/plain": [
       "278"
      ]
     },
     "execution_count": 21,
     "metadata": {},
     "output_type": "execute_result"
    }
   ],
   "source": [
    "len(annot_notes_df[annot_notes_df.field_name == \"biol_rep\"])"
   ]
  },
  {
   "cell_type": "markdown",
   "metadata": {},
   "source": [
    "#### Choosing lib_id as primary key\n",
    "* I discovered that obo_id is identical for technical replicates. \n",
    "* Now we use the lib_id as primary key, which does not have duplicates: "
   ]
  },
  {
   "cell_type": "code",
   "execution_count": 22,
   "metadata": {
    "collapsed": false
   },
   "outputs": [
    {
     "data": {
      "text/html": [
       "<div>\n",
       "<table border=\"1\" class=\"dataframe\">\n",
       "  <thead>\n",
       "    <tr style=\"text-align: right;\">\n",
       "      <th></th>\n",
       "      <th>biol_rep</th>\n",
       "      <th>donor</th>\n",
       "      <th>lib_id</th>\n",
       "      <th>name</th>\n",
       "      <th>name_orig</th>\n",
       "      <th>obo_id</th>\n",
       "      <th>tech_rep</th>\n",
       "      <th>time</th>\n",
       "    </tr>\n",
       "  </thead>\n",
       "  <tbody>\n",
       "  </tbody>\n",
       "</table>\n",
       "</div>"
      ],
      "text/plain": [
       "Empty DataFrame\n",
       "Columns: [biol_rep, donor, lib_id, name, name_orig, obo_id, tech_rep, time]\n",
       "Index: []"
      ]
     },
     "execution_count": 22,
     "metadata": {},
     "output_type": "execute_result"
    }
   ],
   "source": [
    "annotations_df[annotations_df.duplicated(\"lib_id\", keep=False)]"
   ]
  },
  {
   "cell_type": "markdown",
   "metadata": {
    "collapsed": true
   },
   "source": [
    "### add sample type information from supplementary information\n",
    "whether the sample is a tissue, a primary celltype, ... is not properly annotated in the ontology, but we can retrieve that value from the supplementary information data table"
   ]
  },
  {
   "cell_type": "code",
   "execution_count": 23,
   "metadata": {
    "collapsed": true
   },
   "outputs": [],
   "source": [
    "si_table = pd.read_excel(\"data/fantom5-S1.xls\", sheetname=1)"
   ]
  },
  {
   "cell_type": "code",
   "execution_count": 24,
   "metadata": {
    "collapsed": false
   },
   "outputs": [
    {
     "data": {
      "text/html": [
       "<div>\n",
       "<table border=\"1\" class=\"dataframe\">\n",
       "  <thead>\n",
       "    <tr style=\"text-align: right;\">\n",
       "      <th></th>\n",
       "      <th>Sample type</th>\n",
       "      <th>species</th>\n",
       "      <th>description</th>\n",
       "      <th>supplier</th>\n",
       "      <th>sample id</th>\n",
       "      <th>Library_id</th>\n",
       "      <th>Catalog number</th>\n",
       "      <th>external URL</th>\n",
       "      <th>lot number</th>\n",
       "      <th>donor(cell lot)</th>\n",
       "      <th>...</th>\n",
       "      <th>Q20 mapped tags</th>\n",
       "      <th>fraction under robust DPI</th>\n",
       "      <th>Number of peaks called</th>\n",
       "      <th>Number of 5' EST/cDNA supported peaks</th>\n",
       "      <th>Fraction peaks corresponding to known 5' end</th>\n",
       "      <th>RIKEN Yokohama ethics application</th>\n",
       "      <th>marker check</th>\n",
       "      <th>used for peak calling</th>\n",
       "      <th>used for expression analysis</th>\n",
       "      <th>top 3 most correlated samples</th>\n",
       "    </tr>\n",
       "  </thead>\n",
       "  <tbody>\n",
       "    <tr>\n",
       "      <th>1385</th>\n",
       "      <td>tissue</td>\n",
       "      <td>Mouse</td>\n",
       "      <td>whole body, embryo E18</td>\n",
       "      <td>In-house isolation at RIKEN OSC</td>\n",
       "      <td>493</td>\n",
       "      <td>CNhs10516</td>\n",
       "      <td>-</td>\n",
       "      <td>NaN</td>\n",
       "      <td>NaN</td>\n",
       "      <td>NaN</td>\n",
       "      <td>...</td>\n",
       "      <td>4248158</td>\n",
       "      <td>0.711147</td>\n",
       "      <td>10066</td>\n",
       "      <td>9914</td>\n",
       "      <td>0.9849</td>\n",
       "      <td>exempt non human</td>\n",
       "      <td>NaN</td>\n",
       "      <td>yes</td>\n",
       "      <td>yes</td>\n",
       "      <td>whole_body,_embryo_E17.5_(0.75), who...</td>\n",
       "    </tr>\n",
       "    <tr>\n",
       "      <th>1386</th>\n",
       "      <td>tissue</td>\n",
       "      <td>Mouse</td>\n",
       "      <td>whole body, neonate N00</td>\n",
       "      <td>In-house isolation at RIKEN OSC</td>\n",
       "      <td>657</td>\n",
       "      <td>CNhs10525</td>\n",
       "      <td>-</td>\n",
       "      <td>NaN</td>\n",
       "      <td>NaN</td>\n",
       "      <td>NaN</td>\n",
       "      <td>...</td>\n",
       "      <td>4437032</td>\n",
       "      <td>0.754926</td>\n",
       "      <td>10825</td>\n",
       "      <td>10693</td>\n",
       "      <td>0.987806</td>\n",
       "      <td>exempt non human</td>\n",
       "      <td>NaN</td>\n",
       "      <td>yes</td>\n",
       "      <td>yes</td>\n",
       "      <td>whole_body,_embryo_E18_(0.74), whole...</td>\n",
       "    </tr>\n",
       "    <tr>\n",
       "      <th>1387</th>\n",
       "      <td>tissue</td>\n",
       "      <td>Mouse</td>\n",
       "      <td>whole body, neonate N01</td>\n",
       "      <td>In-house isolation at RIKEN OSC</td>\n",
       "      <td>659</td>\n",
       "      <td>CNhs10576</td>\n",
       "      <td>-</td>\n",
       "      <td>NaN</td>\n",
       "      <td>NaN</td>\n",
       "      <td>NaN</td>\n",
       "      <td>...</td>\n",
       "      <td>5650662</td>\n",
       "      <td>0.697480</td>\n",
       "      <td>10990</td>\n",
       "      <td>10741</td>\n",
       "      <td>0.977343</td>\n",
       "      <td>exempt non human</td>\n",
       "      <td>NaN</td>\n",
       "      <td>yes</td>\n",
       "      <td>yes</td>\n",
       "      <td>whole_body,_neonate_N06_(0.72), whol...</td>\n",
       "    </tr>\n",
       "    <tr>\n",
       "      <th>1388</th>\n",
       "      <td>tissue</td>\n",
       "      <td>Mouse</td>\n",
       "      <td>whole body, neonate N06</td>\n",
       "      <td>In-house isolation at RIKEN OSC</td>\n",
       "      <td>692</td>\n",
       "      <td>CNhs10515</td>\n",
       "      <td>-</td>\n",
       "      <td>NaN</td>\n",
       "      <td>NaN</td>\n",
       "      <td>NaN</td>\n",
       "      <td>...</td>\n",
       "      <td>4277029</td>\n",
       "      <td>0.796065</td>\n",
       "      <td>10410</td>\n",
       "      <td>10252</td>\n",
       "      <td>0.984822</td>\n",
       "      <td>exempt non human</td>\n",
       "      <td>NaN</td>\n",
       "      <td>yes</td>\n",
       "      <td>yes</td>\n",
       "      <td>whole_body,_neonate_N10_(0.76), whol...</td>\n",
       "    </tr>\n",
       "    <tr>\n",
       "      <th>1389</th>\n",
       "      <td>tissue</td>\n",
       "      <td>Mouse</td>\n",
       "      <td>whole body, neonate N10</td>\n",
       "      <td>In-house isolation at RIKEN OSC</td>\n",
       "      <td>761</td>\n",
       "      <td>CNhs10518</td>\n",
       "      <td>-</td>\n",
       "      <td>NaN</td>\n",
       "      <td>NaN</td>\n",
       "      <td>NaN</td>\n",
       "      <td>...</td>\n",
       "      <td>4157140</td>\n",
       "      <td>0.808407</td>\n",
       "      <td>9651</td>\n",
       "      <td>9503</td>\n",
       "      <td>0.984665</td>\n",
       "      <td>exempt non human</td>\n",
       "      <td>NaN</td>\n",
       "      <td>yes</td>\n",
       "      <td>yes</td>\n",
       "      <td>whole_body,_neonate_N06_(0.76), bone...</td>\n",
       "    </tr>\n",
       "  </tbody>\n",
       "</table>\n",
       "<p>5 rows × 23 columns</p>\n",
       "</div>"
      ],
      "text/plain": [
       "     Sample type species              description  \\\n",
       "1385      tissue   Mouse   whole body, embryo E18   \n",
       "1386      tissue   Mouse  whole body, neonate N00   \n",
       "1387      tissue   Mouse  whole body, neonate N01   \n",
       "1388      tissue   Mouse  whole body, neonate N06   \n",
       "1389      tissue   Mouse  whole body, neonate N10   \n",
       "\n",
       "                             supplier  sample id Library_id Catalog number  \\\n",
       "1385  In-house isolation at RIKEN OSC        493  CNhs10516              -   \n",
       "1386  In-house isolation at RIKEN OSC        657  CNhs10525              -   \n",
       "1387  In-house isolation at RIKEN OSC        659  CNhs10576              -   \n",
       "1388  In-house isolation at RIKEN OSC        692  CNhs10515              -   \n",
       "1389  In-house isolation at RIKEN OSC        761  CNhs10518              -   \n",
       "\n",
       "     external URL lot number donor(cell lot)  \\\n",
       "1385          NaN        NaN             NaN   \n",
       "1386          NaN        NaN             NaN   \n",
       "1387          NaN        NaN             NaN   \n",
       "1388          NaN        NaN             NaN   \n",
       "1389          NaN        NaN             NaN   \n",
       "\n",
       "                       ...                    Q20 mapped tags  \\\n",
       "1385                   ...                            4248158   \n",
       "1386                   ...                            4437032   \n",
       "1387                   ...                            5650662   \n",
       "1388                   ...                            4277029   \n",
       "1389                   ...                            4157140   \n",
       "\n",
       "     fraction under robust DPI Number of peaks called  \\\n",
       "1385                  0.711147                  10066   \n",
       "1386                  0.754926                  10825   \n",
       "1387                  0.697480                  10990   \n",
       "1388                  0.796065                  10410   \n",
       "1389                  0.808407                   9651   \n",
       "\n",
       "      Number of 5' EST/cDNA supported peaks  \\\n",
       "1385                                   9914   \n",
       "1386                                  10693   \n",
       "1387                                  10741   \n",
       "1388                                  10252   \n",
       "1389                                   9503   \n",
       "\n",
       "      Fraction peaks corresponding to known 5' end  \\\n",
       "1385                                   0.9849        \n",
       "1386                                 0.987806        \n",
       "1387                                 0.977343        \n",
       "1388                                 0.984822        \n",
       "1389                                 0.984665        \n",
       "\n",
       "     RIKEN Yokohama ethics application  marker check used for peak calling  \\\n",
       "1385                  exempt non human           NaN                   yes   \n",
       "1386                  exempt non human           NaN                   yes   \n",
       "1387                  exempt non human           NaN                   yes   \n",
       "1388                  exempt non human           NaN                   yes   \n",
       "1389                  exempt non human           NaN                   yes   \n",
       "\n",
       "     used for expression analysis            top 3 most correlated samples  \n",
       "1385                          yes  whole_body,_embryo_E17.5_(0.75), who...  \n",
       "1386                          yes  whole_body,_embryo_E18_(0.74), whole...  \n",
       "1387                          yes  whole_body,_neonate_N06_(0.72), whol...  \n",
       "1388                          yes  whole_body,_neonate_N10_(0.76), whol...  \n",
       "1389                          yes  whole_body,_neonate_N06_(0.76), bone...  \n",
       "\n",
       "[5 rows x 23 columns]"
      ]
     },
     "execution_count": 24,
     "metadata": {},
     "output_type": "execute_result"
    }
   ],
   "source": [
    "pd.set_option('display.max_colwidth', 40)\n",
    "si_table.tail()"
   ]
  },
  {
   "cell_type": "code",
   "execution_count": 25,
   "metadata": {
    "collapsed": false
   },
   "outputs": [],
   "source": [
    "sample_type = []\n",
    "for lib_id in annotations_df.lib_id:\n",
    "    if lib_id in si_table.Library_id.values: \n",
    "        sample_type.extend(si_table[si_table.Library_id == lib_id][\"Sample type\"].values)\n",
    "    else:\n",
    "        sample_type.append(\"unknown\")\n",
    "annotations_df[\"sample_type\"] = sample_type"
   ]
  },
  {
   "cell_type": "code",
   "execution_count": 26,
   "metadata": {
    "collapsed": false
   },
   "outputs": [
    {
     "data": {
      "text/plain": [
       "{'cell line', 'primary cell', 'tissue', 'unknown'}"
      ]
     },
     "execution_count": 26,
     "metadata": {},
     "output_type": "execute_result"
    }
   ],
   "source": [
    "set(annotations_df.sample_type.values)"
   ]
  },
  {
   "cell_type": "markdown",
   "metadata": {},
   "source": [
    "### Write everything to a csv file"
   ]
  },
  {
   "cell_type": "code",
   "execution_count": 27,
   "metadata": {
    "collapsed": true
   },
   "outputs": [],
   "source": [
    "annotations_df.to_csv(\"data/column_vars.processed.csv\")\n",
    "annot_notes_df.to_csv(\"data/annotation_notes.csv\")"
   ]
  },
  {
   "cell_type": "code",
   "execution_count": null,
   "metadata": {
    "collapsed": true
   },
   "outputs": [],
   "source": []
  }
 ],
 "metadata": {
  "kernelspec": {
   "display_name": "Python 3",
   "language": "python",
   "name": "python3"
  },
  "language_info": {
   "codemirror_mode": {
    "name": "ipython",
    "version": 3
   },
   "file_extension": ".py",
   "mimetype": "text/x-python",
   "name": "python",
   "nbconvert_exporter": "python",
   "pygments_lexer": "ipython3",
   "version": "3.5.1"
  }
 },
 "nbformat": 4,
 "nbformat_minor": 0
}
