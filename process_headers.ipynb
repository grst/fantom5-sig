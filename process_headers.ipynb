{
 "cells": [
  {
   "cell_type": "code",
   "execution_count": 9,
   "metadata": {
    "collapsed": false
   },
   "outputs": [],
   "source": [
    "import pandas as pd\n",
    "from itertools import repeat\n",
    "import re\n",
    "from orangecontrib.bio.ontology import OBOOntology"
   ]
  },
  {
   "cell_type": "markdown",
   "metadata": {},
   "source": [
    "### Read column headers from fantom5 data. \n",
    "Read the column headers and extract sample information from it. "
   ]
  },
  {
   "cell_type": "code",
   "execution_count": 1,
   "metadata": {
    "collapsed": false
   },
   "outputs": [
    {
     "name": "stdout",
     "output_type": "stream",
     "text": [
      "fantom5_ds.txt\t\t\t\t   samples1829\r\n",
      "fantom5_head2000.txt\t\t\t   samples1829_LIBRARY_IDs\r\n",
      "hg19.cage_peak_phase1and2combined_ann.txt  samples1829_simplified\r\n",
      "human_samples_nature13182-s2\r\n"
     ]
    }
   ],
   "source": [
    "!ls data"
   ]
  },
  {
   "cell_type": "code",
   "execution_count": 44,
   "metadata": {
    "collapsed": false
   },
   "outputs": [],
   "source": [
    "!grep \"^##ColumnVariables\" data/fantom5_ds.txt | cut -d\"=\" -f2 > data/column_vars.txt\n",
    "col_info = !cat data/column_vars.txt"
   ]
  },
  {
   "cell_type": "code",
   "execution_count": 42,
   "metadata": {
    "collapsed": false
   },
   "outputs": [
    {
     "data": {
      "text/plain": [
       "['CAGE peak id',\n",
       " 'short form of the description below. Common descriptions in the long descriptions has been omited',\n",
       " 'description of the CAGE peak',\n",
       " 'transcript which 5end is the nearest to the the CAGE peak',\n",
       " 'entrezgene (genes) id associated with the transcript',\n",
       " 'hgnc (gene symbol) id associated with the transcript',\n",
       " 'uniprot (protein) id associated with the transcript',\n",
       " 'tpm of 293SLAM rinderpest infection, 00hr, biol_rep1.CNhs14406.13541-145H4',\n",
       " 'tpm of 293SLAM rinderpest infection, 00hr, biol_rep2.CNhs14407.13542-145H5',\n",
       " 'tpm of 293SLAM rinderpest infection, 00hr, biol_rep3.CNhs14408.13543-145H6']"
      ]
     },
     "execution_count": 42,
     "metadata": {},
     "output_type": "execute_result"
    }
   ],
   "source": [
    "col_info[:10]"
   ]
  },
  {
   "cell_type": "code",
   "execution_count": 8,
   "metadata": {
    "collapsed": true
   },
   "outputs": [],
   "source": [
    "sample_info = col_info[7:]"
   ]
  },
  {
   "cell_type": "markdown",
   "metadata": {},
   "source": [
    "### Retreiving Information from the ontoloty. \n",
    "\n",
    "The column headers are difficult to parse (inconsistent commata, etc.). \n",
    "We found an ontology on the fantom5 web page. [1]\n",
    "\n",
    "First, we check, if all the ids from the column headers appear in the ontology. \n",
    "\n",
    "[1] http://fantom.gsc.riken.jp/5/datafiles/latest/extra/Ontology/ff-phase2-140729.obo.txt"
   ]
  },
  {
   "cell_type": "code",
   "execution_count": 98,
   "metadata": {
    "collapsed": true
   },
   "outputs": [],
   "source": [
    "LIB_ID_REGEX = re.compile(r'CNhs\\d+.(\\w+)-(\\w+)')"
   ]
  },
  {
   "cell_type": "code",
   "execution_count": 96,
   "metadata": {
    "collapsed": false
   },
   "outputs": [],
   "source": [
    "for info_line in sample_info:\n",
    "    ff_id = \"-\".join(LIB_ID_REGEX.search(info_line).groups())\n",
    "    res = !grep {ff_id} data/ff-phase2-140729.obo.txt \n",
    "    assert len(res) > 0"
   ]
  },
  {
   "cell_type": "markdown",
   "metadata": {},
   "source": [
    "that seems to be the case...\n",
    "\n",
    "#### Try out the Ontology Parser"
   ]
  },
  {
   "cell_type": "code",
   "execution_count": 11,
   "metadata": {
    "collapsed": false
   },
   "outputs": [],
   "source": [
    "obo = OBOOntology()\n",
    "obo.load(open(\"data/ff-phase2-140729.obo.txt\"))"
   ]
  },
  {
   "cell_type": "code",
   "execution_count": 19,
   "metadata": {
    "collapsed": false
   },
   "outputs": [
    {
     "name": "stdout",
     "output_type": "stream",
     "text": [
      "[('id', 'FF:1394-42H2', None, None), ('name', 'lung, neonate N30, rep1', None, None), ('namespace', 'FANTOM5', None, None), ('subset', 'phase1', None, None), ('subset', 'phase2', None, None), ('subset', 'update022', None, None), ('is_a', 'EFO:0002091', None, 'biological replicate'), ('is_a', 'FF:0011489', None, 'mouse lung- neonate N30 sample')]\n"
     ]
    }
   ],
   "source": [
    "print(obo.term(\"FF:1394-42H2\").tags())"
   ]
  },
  {
   "cell_type": "markdown",
   "metadata": {},
   "source": [
    "#### Parse the ontology. \n",
    "\n",
    "at least, we don't run into massive comma-parsing trouble again. There remain issues, though:\n",
    "* sometimes, the time/donor/replicate is not annotated using the ontology but only appears in the 'name'. In that case parse using regex and check if it is consistent with the ongology annotation, if available. \n",
    "* I need to figure out a way how to determine the cell type from the name. Is it enough to rely on the 'derives_from' annotation? "
   ]
  },
  {
   "cell_type": "code",
   "execution_count": null,
   "metadata": {
    "collapsed": true
   },
   "outputs": [],
   "source": []
  }
 ],
 "metadata": {
  "kernelspec": {
   "display_name": "Python 3",
   "language": "python",
   "name": "python3"
  },
  "language_info": {
   "codemirror_mode": {
    "name": "ipython",
    "version": 3
   },
   "file_extension": ".py",
   "mimetype": "text/x-python",
   "name": "python",
   "nbconvert_exporter": "python",
   "pygments_lexer": "ipython3",
   "version": "3.5.1"
  }
 },
 "nbformat": 4,
 "nbformat_minor": 0
}
