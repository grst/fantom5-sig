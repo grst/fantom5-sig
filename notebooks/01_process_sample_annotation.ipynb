{
 "cells": [
  {
   "cell_type": "code",
   "execution_count": 9,
   "metadata": {
    "collapsed": false
   },
   "outputs": [],
   "source": [
    "import sys\n",
    "sys.path.append(\"..\")\n",
    "\n",
    "%load_ext autoreload\n",
    "%autoreload 1\n",
    "%aimport pyfantom.parse_ontology\n",
    "\n",
    "import pandas as pd\n",
    "from itertools import repeat\n",
    "import re\n",
    "from orangecontrib.bio.ontology import OBOOntology\n",
    "import logging\n",
    "\n",
    "from pyfantom.parse_ontology import *\n",
    "pd.set_option('display.max_colwidth', -1)"
   ]
  },
  {
   "cell_type": "code",
   "execution_count": 1,
   "metadata": {
    "collapsed": true
   },
   "outputs": [],
   "source": [
    "def enable_logging(): \n",
    "    !rm '../data/process_sample_descriptions.log'\n",
    "    logger = logging.getLogger()\n",
    "    logger.setLevel(logging.DEBUG)\n",
    "    fh = logging.FileHandler('../data/process_sample_descriptions.log')\n",
    "    fh.setLevel(logging.DEBUG)\n",
    "    formatter = logging.Formatter(\"%(asctime)s - %(name)s - %(levelname)s - %(message)s\")\n",
    "    fh.setFormatter(formatter)\n",
    "    logger.handlers[0].setLevel(logging.WARNING) # adjust stream handler\n",
    "    logger.handlers[0].propagate = True\n",
    "    logger.addHandler(fh)"
   ]
  },
  {
   "cell_type": "markdown",
   "metadata": {},
   "source": [
    "### Read column headers from fantom5 data. \n",
    "Read the column headers and extract sample information from it. "
   ]
  },
  {
   "cell_type": "code",
   "execution_count": 2,
   "metadata": {
    "collapsed": false
   },
   "outputs": [
    {
     "name": "stdout",
     "output_type": "stream",
     "text": [
      "annotation_notes.csv\t     fantom5-S1.xls\r\n",
      "biolayout\t\t     ff-phase2-140729.corr.2.obo\r\n",
      "column_vars.processed.csv    ff-phase2-140729.corr.3.obo\r\n",
      "column_vars.txt\t\t     ff-phase2-140729.obo\r\n",
      "corr_mat.primary.tsv\t     hg19.cage_peak_phase1and2combined_ann.txt\r\n",
      "delimiter_nodes.2.csv\t     hg19.cage_peak_phase1and2combined_tpm_ann.osc.txt\r\n",
      "delimiter_nodes.csv\t     missing_samples.txt\r\n",
      "f5_eset_primary_cells.Rdata  process_sample_descriptions.log\r\n",
      "f5_expressionset.Rdata\t     singletons.tsv\r\n",
      "fantom5_head2000.txt\r\n"
     ]
    }
   ],
   "source": [
    "!ls ../data"
   ]
  },
  {
   "cell_type": "code",
   "execution_count": 3,
   "metadata": {
    "collapsed": false
   },
   "outputs": [
    {
     "name": "stdout",
     "output_type": "stream",
     "text": [
      "CAGE peak id\n",
      "short form of the description below. Common descriptions in the long descriptions has been omited\n",
      "description of the CAGE peak\n",
      "transcript which 5end is the nearest to the the CAGE peak\n",
      "entrezgene (genes) id associated with the transcript\n",
      "hgnc (gene symbol) id associated with the transcript\n",
      "uniprot (protein) id associated with the transcript\n",
      "tpm of 293SLAM rinderpest infection, 00hr, biol_rep1.CNhs14406.13541-145H4\n",
      "tpm of 293SLAM rinderpest infection, 00hr, biol_rep2.CNhs14407.13542-145H5\n",
      "tpm of 293SLAM rinderpest infection, 00hr, biol_rep3.CNhs14408.13543-145H6\n",
      "cut: write error: Broken pipe\n"
     ]
    }
   ],
   "source": [
    "!grep \"^##ColumnVariables\" ../data/hg19.cage_peak_phase1and2combined_tpm_ann.osc.txt | cut -d\"=\" -f2 | head"
   ]
  },
  {
   "cell_type": "code",
   "execution_count": 4,
   "metadata": {
    "collapsed": false
   },
   "outputs": [
    {
     "name": "stdout",
     "output_type": "stream",
     "text": [
      "tpm of 293SLAM rinderpest infection, 00hr, biol_rep1.CNhs14406.13541-145H4\n",
      "tpm of 293SLAM rinderpest infection, 00hr, biol_rep2.CNhs14407.13542-145H5\n",
      "tpm of 293SLAM rinderpest infection, 00hr, biol_rep3.CNhs14408.13543-145H6\n",
      "tpm of 293SLAM rinderpest infection, 06hr, biol_rep1.CNhs14410.13544-145H7\n",
      "tpm of 293SLAM rinderpest infection, 06hr, biol_rep2.CNhs14411.13545-145H8\n",
      "tpm of 293SLAM rinderpest infection, 06hr, biol_rep3.CNhs14412.13546-145H9\n",
      "tpm of 293SLAM rinderpest infection, 12hr, biol_rep1.CNhs14413.13547-145I1\n",
      "tpm of 293SLAM rinderpest infection, 12hr, biol_rep2.CNhs14414.13548-145I2\n",
      "tpm of 293SLAM rinderpest infection, 12hr, biol_rep3.CNhs14415.13549-145I3\n",
      "tpm of 293SLAM rinderpest infection, 24hr, biol_rep1.CNhs14416.13550-145I4\n",
      "tail: write error: Broken pipe\n",
      "tail: write error\n",
      "cut: write error: Broken pipe\n"
     ]
    }
   ],
   "source": [
    "!grep \"^##ColumnVariables\" ../data/hg19.cage_peak_phase1and2combined_tpm_ann.osc.txt | cut -d\"=\" -f2 | tail -n+8 | head"
   ]
  },
  {
   "cell_type": "code",
   "execution_count": 5,
   "metadata": {
    "collapsed": false
   },
   "outputs": [],
   "source": [
    "!grep \"^##ColumnVariables\" ../data/hg19.cage_peak_phase1and2combined_tpm_ann.osc.txt | cut -d\"=\" -f2 | tail -n+8 > ../data/column_vars.txt"
   ]
  },
  {
   "cell_type": "code",
   "execution_count": 6,
   "metadata": {
    "collapsed": true
   },
   "outputs": [],
   "source": [
    "sample_infos = !cat ../data/column_vars.txt"
   ]
  },
  {
   "cell_type": "code",
   "execution_count": 7,
   "metadata": {
    "collapsed": false
   },
   "outputs": [
    {
     "data": {
      "text/plain": [
       "['tpm of 293SLAM rinderpest infection, 00hr, biol_rep1.CNhs14406.13541-145H4',\n",
       " 'tpm of 293SLAM rinderpest infection, 00hr, biol_rep2.CNhs14407.13542-145H5',\n",
       " 'tpm of 293SLAM rinderpest infection, 00hr, biol_rep3.CNhs14408.13543-145H6',\n",
       " 'tpm of 293SLAM rinderpest infection, 06hr, biol_rep1.CNhs14410.13544-145H7',\n",
       " 'tpm of 293SLAM rinderpest infection, 06hr, biol_rep2.CNhs14411.13545-145H8']"
      ]
     },
     "execution_count": 7,
     "metadata": {},
     "output_type": "execute_result"
    }
   ],
   "source": [
    "sample_infos[:5]"
   ]
  },
  {
   "cell_type": "markdown",
   "metadata": {},
   "source": [
    "### Retreiving Information from the ontoloty. \n",
    "\n",
    "The column headers are difficult to parse (inconsistent commata, etc.). \n",
    "We found an ontology on the fantom5 web page. [1]\n",
    "\n",
    "First, we check, if all the ids from the column headers appear in the ontology. \n",
    "\n",
    "[1] http://fantom.gsc.riken.jp/5/datafiles/latest/extra/Ontology/ff-phase2-140729.obo.txt"
   ]
  },
  {
   "cell_type": "code",
   "execution_count": 10,
   "metadata": {
    "collapsed": false
   },
   "outputs": [],
   "source": [
    "OBO_ID_REGEX = re.compile(r'CNhs\\d+.(\\w+)-(\\w+)')"
   ]
  },
  {
   "cell_type": "code",
   "execution_count": 11,
   "metadata": {
    "collapsed": false
   },
   "outputs": [],
   "source": [
    "for info_line in sample_infos:\n",
    "    ff_id = \"-\".join(OBO_ID_REGEX.search(info_line).groups())\n",
    "    res = !grep {ff_id} ../data/ff-phase2-140729.obo.txt \n",
    "    assert len(res) > 0"
   ]
  },
  {
   "cell_type": "markdown",
   "metadata": {},
   "source": [
    "that seems to be the case...\n",
    "\n",
    "#### Try out the Orange Bioinformatics Python library for parsing and manipulating ontologies"
   ]
  },
  {
   "cell_type": "code",
   "execution_count": 12,
   "metadata": {
    "collapsed": false
   },
   "outputs": [],
   "source": [
    "obo = OBOOntology()\n",
    "obo.load(open(\"../data/ff-phase2-140729.obo\"))"
   ]
  },
  {
   "cell_type": "code",
   "execution_count": 13,
   "metadata": {
    "collapsed": false
   },
   "outputs": [
    {
     "name": "stdout",
     "output_type": "stream",
     "text": [
      "[('id', 'FF:1394-42H2', None, None), ('name', 'lung, neonate N30, rep1', None, None), ('namespace', 'FANTOM5', None, None), ('subset', 'phase1', None, None), ('subset', 'phase2', None, None), ('subset', 'update022', None, None), ('is_a', 'EFO:0002091', None, 'biological replicate'), ('is_a', 'FF:0011489', None, 'mouse lung- neonate N30 sample')]\n"
     ]
    }
   ],
   "source": [
    "print(obo.term(\"FF:1394-42H2\").tags())"
   ]
  },
  {
   "cell_type": "code",
   "execution_count": 14,
   "metadata": {
    "collapsed": false
   },
   "outputs": [
    {
     "data": {
      "text/plain": [
       "'lung, neonate N30, rep1'"
      ]
     },
     "execution_count": 14,
     "metadata": {},
     "output_type": "execute_result"
    }
   ],
   "source": [
    "obo.term(\"FF:1394-42H2\").name"
   ]
  },
  {
   "cell_type": "markdown",
   "metadata": {},
   "source": [
    "#### All 'samples' are annotated as some sort of 'sample' in the ontology: "
   ]
  },
  {
   "cell_type": "code",
   "execution_count": 15,
   "metadata": {
    "collapsed": false
   },
   "outputs": [],
   "source": [
    "sample = \"FF:0000001\" # most general sample id \n",
    "for info_line in sample_infos[:2]: \n",
    "    ff_id = \"FF:\" + \"-\".join(OBO_ID_REGEX.search(info_line).groups())\n",
    "    ids = [term.id for term in obo.super_terms(ff_id)]\n",
    "    assert sample in ids"
   ]
  },
  {
   "cell_type": "markdown",
   "metadata": {},
   "source": [
    "## Preliminary checks positive $\\to$ Let's get started!\n",
    "Using the ontology, we at least don't run into massive comma-parsing trouble again. \n",
    "\n",
    "I wrote the python module `parse_ontology.py`. It takes care of\n",
    "* make sure that there is no inconsistent information between ontology and the sample name (aka. `sample_infos`)\n",
    "* if information is missing in the ontology, complement it with information from the sample name.\n",
    "* In such a case, write an entry to `annot_notes`, that we can improve the ontology later on. "
   ]
  },
  {
   "cell_type": "markdown",
   "metadata": {},
   "source": [
    "#### Replicates\n",
    "* There are technical and biological replicates. \n",
    "* Technical replicates have the same obo_id (`FF:?????-?????`), but different library ids (`CNhs??????`). \n",
    "* The library id is unique:"
   ]
  },
  {
   "cell_type": "raw",
   "metadata": {
    "collapsed": false
   },
   "source": [
    "annotations_df[annotations_df.duplicated(\"lib_id\", keep=False)]\n",
    "## OUTPUT: Empty data frame"
   ]
  },
  {
   "cell_type": "markdown",
   "metadata": {},
   "source": [
    "* We can identify biological replicates from the sample name with the keywords `biol_rep`, `rep` and `donor`. Having different donors is also a way of having biological replicates. \n",
    "\n",
    "As this would be redundant information, we would expect no sample to have both 'biol_rep' and 'donor' in the sample name: "
   ]
  },
  {
   "cell_type": "code",
   "execution_count": 17,
   "metadata": {
    "collapsed": false
   },
   "outputs": [
    {
     "data": {
      "text/plain": [
       "[]"
      ]
     },
     "execution_count": 17,
     "metadata": {},
     "output_type": "execute_result"
    }
   ],
   "source": [
    "[x for x in sample_infos if get_donor(x) is not None and get_biol_replicate(x) is not None ]"
   ]
  },
  {
   "cell_type": "markdown",
   "metadata": {},
   "source": [
    "That seems to be the case. \n",
    "\n",
    "### Do the parsing and store the processed information as `csv` files. "
   ]
  },
  {
   "cell_type": "code",
   "execution_count": 18,
   "metadata": {
    "collapsed": false
   },
   "outputs": [],
   "source": [
    "enable_logging()"
   ]
  },
  {
   "cell_type": "markdown",
   "metadata": {},
   "source": [
    "There is additional information stored in the supplementary information table from the FANTOM5 Paper. \n",
    "We retrieve the 'sample_type' information additionally from this data source: "
   ]
  },
  {
   "cell_type": "code",
   "execution_count": 19,
   "metadata": {
    "collapsed": false
   },
   "outputs": [
    {
     "data": {
      "text/plain": [
       "Index(['Sample type', 'species', 'description', 'supplier', 'sample id',\n",
       "       'Catalog number', 'external URL', 'lot number', 'donor(cell lot)',\n",
       "       'sex', 'age', 'RIN', 'Q20 mapped tags', 'fraction under robust DPI',\n",
       "       'Number of peaks called', 'Number of 5' EST/cDNA supported peaks',\n",
       "       'Fraction peaks corresponding to known 5' end',\n",
       "       'RIKEN Yokohama ethics application', 'marker check',\n",
       "       'used for peak calling', 'used for expression analysis',\n",
       "       'top 3 most correlated samples'],\n",
       "      dtype='object')"
      ]
     },
     "execution_count": 19,
     "metadata": {},
     "output_type": "execute_result"
    }
   ],
   "source": [
    "si_table = pd.read_excel(\"../data/fantom5-S1.xls\", sheetname=1)\n",
    "pd.set_option('display.max_colwidth', 40)\n",
    "si_table.set_index(\"Library_id\", inplace=True)\n",
    "si_table.columns"
   ]
  },
  {
   "cell_type": "code",
   "execution_count": 20,
   "metadata": {
    "collapsed": true
   },
   "outputs": [],
   "source": [
    "def get_sample_si(sample_info):\n",
    "    info_si = {\n",
    "        \"lib_id\": get_lib_id(sample_info),\n",
    "        \"obo_id\": get_obo_id(sample_info)\n",
    "    }\n",
    "    try:\n",
    "        info_si[\"sample_type\"] = si_table.loc[info_si[\"lib_id\"]][\"Sample type\"]\n",
    "    except KeyError:\n",
    "        info_si[\"sample_type\"] = None\n",
    "    return info_si"
   ]
  },
  {
   "cell_type": "markdown",
   "metadata": {},
   "source": [
    "#### Run the python module\n",
    "`annot_notes` will contain an entry for every piece of information that is missing in the ontology. \n",
    "`annotations` contains the collated information from the three data sources\n",
    "* ontolgy\n",
    "* column names in the data table\n",
    "* supplementary information of the FANTOM5 Paper"
   ]
  },
  {
   "cell_type": "code",
   "execution_count": 21,
   "metadata": {
    "collapsed": false
   },
   "outputs": [
    {
     "name": "stderr",
     "output_type": "stream",
     "text": [
      "WARNING:root:sample_type: multiple sample types in ontology: ['tissue', 'primary cell']\n",
      "WARNING:root:sample_type: multiple sample types in ontology: ['tissue', 'primary cell']\n",
      "WARNING:root:sample_type: inconsistent. Ontology: ['cell line'], SI: primary cell\n",
      "WARNING:root:sample_type: inconsistent. Ontology: ['cell line'], SI: primary cell\n",
      "WARNING:root:sample_type: inconsistent. Ontology: ['cell line'], SI: primary cell\n",
      "WARNING:root:sample_type: inconsistent. Ontology: ['cell line'], SI: primary cell\n",
      "WARNING:root:sample_type: inconsistent. Ontology: ['cell line'], SI: primary cell\n",
      "WARNING:root:sample_type: inconsistent. Ontology: ['tissue'], SI: primary cell\n",
      "WARNING:root:sample_type: multiple sample types in ontology: ['tissue', 'primary cell']\n",
      "WARNING:root:sample_type: multiple sample types in ontology: ['tissue', 'primary cell']\n",
      "WARNING:root:sample_type: multiple sample types in ontology: ['tissue', 'primary cell']\n",
      "WARNING:root:sample_type: multiple sample types in ontology: ['tissue', 'primary cell']\n",
      "WARNING:root:sample_type: multiple sample types in ontology: ['tissue', 'primary cell']\n",
      "WARNING:root:sample_type: multiple sample types in ontology: ['tissue', 'primary cell']\n",
      "WARNING:root:sample_type: multiple sample types in ontology: ['tissue', 'primary cell']\n",
      "WARNING:root:sample_type: multiple sample types in ontology: ['tissue', 'primary cell']\n",
      "WARNING:root:sample_type: multiple sample types in ontology: ['tissue', 'primary cell']\n",
      "WARNING:root:sample_type: multiple sample types in ontology: ['tissue', 'primary cell']\n",
      "WARNING:root:sample_type: multiple sample types in ontology: ['tissue', 'primary cell']\n",
      "WARNING:root:sample_type: multiple sample types in ontology: ['tissue', 'primary cell']\n",
      "WARNING:root:sample_type: multiple sample types in ontology: ['tissue', 'primary cell']\n",
      "WARNING:root:sample_type: multiple sample types in ontology: ['tissue', 'primary cell']\n",
      "WARNING:root:sample_type: inconsistent. Ontology: ['primary cell'], SI: tissue\n",
      "WARNING:root:sample_type: multiple sample types in ontology: ['tissue', 'primary cell']\n",
      "WARNING:root:sample_type: multiple sample types in ontology: ['tissue', 'primary cell']\n",
      "WARNING:root:sample_type: multiple sample types in ontology: ['tissue', 'primary cell']\n",
      "WARNING:root:sample_type: multiple sample types in ontology: ['tissue', 'primary cell']\n",
      "WARNING:root:sample_type: multiple sample types in ontology: ['tissue', 'primary cell']\n",
      "WARNING:root:sample_type: multiple sample types in ontology: ['tissue', 'primary cell']\n",
      "WARNING:root:sample_type: multiple sample types in ontology: ['tissue', 'primary cell']\n",
      "WARNING:root:sample_type: multiple sample types in ontology: ['tissue', 'primary cell']\n"
     ]
    }
   ],
   "source": [
    "annot_notes = []\n",
    "annotations = []\n",
    "for sample_info in sample_infos: \n",
    "    logging.info(\"Processing Sample: '{}'\".format(sample_info))\n",
    "    info_n = process_sample_name(sample_info)\n",
    "    info_o = process_sample_ontology(obo, sample_info)\n",
    "    info_si = get_sample_si(sample_info)\n",
    "    annotations.append(merge_sample_info(info_n, info_o, info_si, annot_notes))"
   ]
  },
  {
   "cell_type": "markdown",
   "metadata": {},
   "source": [
    "The log output indicates, that there are inconsistencies between the supplementary information and the ontology when it comes to the sample type. Moreover, the ontology specifies more than one sample type for some samples. "
   ]
  },
  {
   "cell_type": "code",
   "execution_count": 22,
   "metadata": {
    "collapsed": false
   },
   "outputs": [],
   "source": [
    "annotations_df = pd.DataFrame(annotations)\n",
    "annot_notes_df = pd.DataFrame(annot_notes)"
   ]
  },
  {
   "cell_type": "code",
   "execution_count": 23,
   "metadata": {
    "collapsed": false,
    "scrolled": false
   },
   "outputs": [
    {
     "data": {
      "text/html": [
       "<div>\n",
       "<table border=\"1\" class=\"dataframe\">\n",
       "  <thead>\n",
       "    <tr style=\"text-align: right;\">\n",
       "      <th></th>\n",
       "      <th>biol_rep</th>\n",
       "      <th>donor</th>\n",
       "      <th>lib_id</th>\n",
       "      <th>name</th>\n",
       "      <th>name_orig</th>\n",
       "      <th>obo_id</th>\n",
       "      <th>sample_type</th>\n",
       "      <th>tech_rep</th>\n",
       "      <th>time</th>\n",
       "    </tr>\n",
       "  </thead>\n",
       "  <tbody>\n",
       "    <tr>\n",
       "      <th>1824</th>\n",
       "      <td>True</td>\n",
       "      <td>None</td>\n",
       "      <td>CNhs11676</td>\n",
       "      <td>uterus, adult, pool1</td>\n",
       "      <td>tpm of uterus, adult, pool1.CNhs1167...</td>\n",
       "      <td>FF:10100-102D1</td>\n",
       "      <td>tissue</td>\n",
       "      <td>False</td>\n",
       "      <td>None</td>\n",
       "    </tr>\n",
       "    <tr>\n",
       "      <th>1825</th>\n",
       "      <td>True</td>\n",
       "      <td>donor1</td>\n",
       "      <td>CNhs11763</td>\n",
       "      <td>uterus, fetal, donor1</td>\n",
       "      <td>tpm of uterus, fetal, donor1.CNhs117...</td>\n",
       "      <td>FF:10055-101H1</td>\n",
       "      <td>tissue</td>\n",
       "      <td>False</td>\n",
       "      <td>None</td>\n",
       "    </tr>\n",
       "    <tr>\n",
       "      <th>1826</th>\n",
       "      <td>True</td>\n",
       "      <td>None</td>\n",
       "      <td>CNhs12854</td>\n",
       "      <td>vagina, adult, rep1</td>\n",
       "      <td>tpm of vagina, adult.CNhs12854.10204...</td>\n",
       "      <td>FF:10204-103F6</td>\n",
       "      <td>tissue</td>\n",
       "      <td>False</td>\n",
       "      <td>None</td>\n",
       "    </tr>\n",
       "    <tr>\n",
       "      <th>1827</th>\n",
       "      <td>True</td>\n",
       "      <td>None</td>\n",
       "      <td>CNhs12844</td>\n",
       "      <td>vein, adult, rep1</td>\n",
       "      <td>tpm of vein, adult.CNhs12844.10191-1...</td>\n",
       "      <td>FF:10191-103E2</td>\n",
       "      <td>tissue</td>\n",
       "      <td>False</td>\n",
       "      <td>None</td>\n",
       "    </tr>\n",
       "    <tr>\n",
       "      <th>1828</th>\n",
       "      <td>True</td>\n",
       "      <td>None</td>\n",
       "      <td>CNhs11813</td>\n",
       "      <td>xeroderma pigentosum b cell line:XPL...</td>\n",
       "      <td>tpm of xeroderma pigentosum b cell l...</td>\n",
       "      <td>FF:10563-108A5</td>\n",
       "      <td>cell line</td>\n",
       "      <td>False</td>\n",
       "      <td>None</td>\n",
       "    </tr>\n",
       "  </tbody>\n",
       "</table>\n",
       "</div>"
      ],
      "text/plain": [
       "     biol_rep   donor     lib_id                                     name  \\\n",
       "1824     True    None  CNhs11676                     uterus, adult, pool1   \n",
       "1825     True  donor1  CNhs11763                    uterus, fetal, donor1   \n",
       "1826     True    None  CNhs12854                      vagina, adult, rep1   \n",
       "1827     True    None  CNhs12844                        vein, adult, rep1   \n",
       "1828     True    None  CNhs11813  xeroderma pigentosum b cell line:XPL...   \n",
       "\n",
       "                                    name_orig          obo_id sample_type  \\\n",
       "1824  tpm of uterus, adult, pool1.CNhs1167...  FF:10100-102D1      tissue   \n",
       "1825  tpm of uterus, fetal, donor1.CNhs117...  FF:10055-101H1      tissue   \n",
       "1826  tpm of vagina, adult.CNhs12854.10204...  FF:10204-103F6      tissue   \n",
       "1827  tpm of vein, adult.CNhs12844.10191-1...  FF:10191-103E2      tissue   \n",
       "1828  tpm of xeroderma pigentosum b cell l...  FF:10563-108A5   cell line   \n",
       "\n",
       "     tech_rep  time  \n",
       "1824    False  None  \n",
       "1825    False  None  \n",
       "1826    False  None  \n",
       "1827    False  None  \n",
       "1828    False  None  "
      ]
     },
     "execution_count": 23,
     "metadata": {},
     "output_type": "execute_result"
    }
   ],
   "source": [
    "annotations_df.tail()"
   ]
  },
  {
   "cell_type": "code",
   "execution_count": 24,
   "metadata": {
    "collapsed": false
   },
   "outputs": [
    {
     "data": {
      "text/html": [
       "<div>\n",
       "<table border=\"1\" class=\"dataframe\">\n",
       "  <thead>\n",
       "    <tr style=\"text-align: right;\">\n",
       "      <th></th>\n",
       "      <th>field_name</th>\n",
       "      <th>lib_id</th>\n",
       "      <th>new_value</th>\n",
       "      <th>obo_id</th>\n",
       "    </tr>\n",
       "  </thead>\n",
       "  <tbody>\n",
       "    <tr>\n",
       "      <th>542</th>\n",
       "      <td>biol_rep</td>\n",
       "      <td>CNhs14223</td>\n",
       "      <td>donor10258</td>\n",
       "      <td>FF:10370-105G1</td>\n",
       "    </tr>\n",
       "    <tr>\n",
       "      <th>543</th>\n",
       "      <td>tech_rep</td>\n",
       "      <td>CNhs14223</td>\n",
       "      <td>tech_rep1</td>\n",
       "      <td>FF:10370-105G1</td>\n",
       "    </tr>\n",
       "    <tr>\n",
       "      <th>544</th>\n",
       "      <td>biol_rep</td>\n",
       "      <td>CNhs14551</td>\n",
       "      <td>donor10258</td>\n",
       "      <td>FF:10370-105G1</td>\n",
       "    </tr>\n",
       "    <tr>\n",
       "      <th>545</th>\n",
       "      <td>tech_rep</td>\n",
       "      <td>CNhs14551</td>\n",
       "      <td>tech_rep2</td>\n",
       "      <td>FF:10370-105G1</td>\n",
       "    </tr>\n",
       "    <tr>\n",
       "      <th>546</th>\n",
       "      <td>biol_rep</td>\n",
       "      <td>CNhs14084</td>\n",
       "      <td>donor10223</td>\n",
       "      <td>FF:10366-105F6</td>\n",
       "    </tr>\n",
       "  </tbody>\n",
       "</table>\n",
       "</div>"
      ],
      "text/plain": [
       "    field_name     lib_id   new_value          obo_id\n",
       "542   biol_rep  CNhs14223  donor10258  FF:10370-105G1\n",
       "543   tech_rep  CNhs14223   tech_rep1  FF:10370-105G1\n",
       "544   biol_rep  CNhs14551  donor10258  FF:10370-105G1\n",
       "545   tech_rep  CNhs14551   tech_rep2  FF:10370-105G1\n",
       "546   biol_rep  CNhs14084  donor10223  FF:10366-105F6"
      ]
     },
     "execution_count": 24,
     "metadata": {},
     "output_type": "execute_result"
    }
   ],
   "source": [
    "annot_notes_df.tail()"
   ]
  },
  {
   "cell_type": "markdown",
   "metadata": {},
   "source": [
    "The number of informations we ammended to the ontology: "
   ]
  },
  {
   "cell_type": "code",
   "execution_count": 25,
   "metadata": {
    "collapsed": false
   },
   "outputs": [
    {
     "data": {
      "text/plain": [
       "278"
      ]
     },
     "execution_count": 25,
     "metadata": {},
     "output_type": "execute_result"
    }
   ],
   "source": [
    "len(annot_notes_df[annot_notes_df.field_name == \"biol_rep\"])"
   ]
  },
  {
   "cell_type": "markdown",
   "metadata": {},
   "source": [
    "### Write everything to a csv file"
   ]
  },
  {
   "cell_type": "code",
   "execution_count": 15,
   "metadata": {
    "collapsed": true
   },
   "outputs": [],
   "source": [
    "annotations_df.to_csv(\"../data/column_vars.processed.csv\")\n",
    "annot_notes_df.to_csv(\"../data/annotation_notes.csv\")"
   ]
  },
  {
   "cell_type": "code",
   "execution_count": null,
   "metadata": {
    "collapsed": true
   },
   "outputs": [],
   "source": []
  }
 ],
 "metadata": {
  "kernelspec": {
   "display_name": "Python 3",
   "language": "python",
   "name": "python3"
  },
  "language_info": {
   "codemirror_mode": {
    "name": "ipython",
    "version": 3
   },
   "file_extension": ".py",
   "mimetype": "text/x-python",
   "name": "python",
   "nbconvert_exporter": "python",
   "pygments_lexer": "ipython3",
   "version": "3.5.1"
  }
 },
 "nbformat": 4,
 "nbformat_minor": 0
}
