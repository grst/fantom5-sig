{
 "cells": [
  {
   "cell_type": "code",
   "execution_count": 14,
   "metadata": {
    "collapsed": false
   },
   "outputs": [
    {
     "name": "stdout",
     "output_type": "stream",
     "text": [
      "The autoreload extension is already loaded. To reload it, use:\n",
      "  %reload_ext autoreload\n"
     ]
    }
   ],
   "source": [
    "import sys\n",
    "sys.path.append(\"..\")\n",
    "\n",
    "%matplotlib inline\n",
    "%load_ext autoreload\n",
    "%autoreload 1\n",
    "%aimport pyfantom.network_tools\n",
    "\n",
    "from orangecontrib.bio.ontology import OBOOntology, OBOObject\n",
    "import networkx as nx\n",
    "from pylab import * \n",
    "from itertools import repeat\n",
    "import pandas as pd\n",
    "import re\n",
    "from pprint import pprint\n",
    "from collections import Counter\n",
    "\n",
    "from pyfantom.network_tools import *\n",
    "pd.set_option('display.max_colwidth', -1)"
   ]
  },
  {
   "cell_type": "markdown",
   "metadata": {},
   "source": [
    "# Create a Cytoscape Network from the Ontology\n",
    "We want to create a network that is as comprehensive as possible. For that we our tweaked ontology from \n",
    "the previous notebook. "
   ]
  },
  {
   "cell_type": "code",
   "execution_count": 54,
   "metadata": {
    "collapsed": false
   },
   "outputs": [],
   "source": [
    "obo = OBOOntology()\n",
    "obo.load(open(\"../data/ff-phase2-140729.obo\"))\n",
    "obo_corr = OBOOntology()\n",
    "obo_corr.load(open(\"../data/ff-phase2-140729.corr.obo\"))\n",
    "col_vars = pd.read_csv(\"../data/column_vars.processed.csv\", index_col=0)"
   ]
  },
  {
   "cell_type": "code",
   "execution_count": 8,
   "metadata": {
    "collapsed": true
   },
   "outputs": [],
   "source": [
    "HUMAN_SAMPLE = \"FF:0000210\""
   ]
  },
  {
   "cell_type": "markdown",
   "metadata": {},
   "source": [
    "Let's check if our manual entries are in there:"
   ]
  },
  {
   "cell_type": "code",
   "execution_count": 9,
   "metadata": {
    "collapsed": false
   },
   "outputs": [
    {
     "data": {
      "text/plain": [
       "{OBOObject(id='FF:11796-124C5', name=CD4+CD25+CD45RA+ naive regulatory T cells, donor2, ...),\n",
       " OBOObject(id='FF:11793-124C2', name=CD4+CD25+CD45RA+ naive regulatory T cells expanded, donor1, ...),\n",
       " OBOObject(id='FF:11907-125F8', name=CD4+CD25+CD45RA+ naive regulatory T cells, donor3, ...)}"
      ]
     },
     "execution_count": 9,
     "metadata": {},
     "output_type": "execute_result"
    }
   ],
   "source": [
    "obo_corr.child_terms(\"GS:0001\")"
   ]
  },
  {
   "cell_type": "code",
   "execution_count": 10,
   "metadata": {
    "collapsed": false
   },
   "outputs": [
    {
     "data": {
      "text/plain": [
       "{OBOObject(id='EFO:0002091', name=biological replicate, ...),\n",
       " OBOObject(id='FF:0000002', name=in vivo cell sample, ...),\n",
       " OBOObject(id='GS:0001', name=human CD4-positiveCD25-positiveCD45RA-positive naive regulatory T cells sample, ...),\n",
       " OBOObject(id='FF:0000210', name=human sample, ...)}"
      ]
     },
     "execution_count": 10,
     "metadata": {},
     "output_type": "execute_result"
    }
   ],
   "source": [
    "obo_corr.parent_terms(\"FF:11796-124C5\")"
   ]
  },
  {
   "cell_type": "markdown",
   "metadata": {},
   "source": [
    "## Take advantage of all relations\n",
    "We know from the previous notebook, that there are more relations than 'is_a'. Especially relevant is the 'derives_from' and 'develops_from' annotation, as we are interested in a hierarchy of cell types\n",
    "\n",
    "#### What kind of entities do we have in the Ontology?\n",
    "(what comes before the colon in the ids) "
   ]
  },
  {
   "cell_type": "code",
   "execution_count": 13,
   "metadata": {
    "collapsed": false
   },
   "outputs": [
    {
     "data": {
      "text/plain": [
       "[OBOObject(id='BFO:0000040', name=material entity, ...),\n",
       " OBOObject(id='DOID:4', name=disease, ...),\n",
       " OBOObject(id='EFO:0000001', name=experimental factor, ...),\n",
       " OBOObject(id='FF:0000001', name=sample, ...),\n",
       " OBOObject(id='GO:0005575', name=cellular_component, ...),\n",
       " OBOObject(id='NCBITaxon:1', name=root, ...),\n",
       " OBOObject(id='UBERON:0001062', name=anatomical entity, ...)]"
      ]
     },
     "execution_count": 13,
     "metadata": {},
     "output_type": "execute_result"
    }
   ],
   "source": [
    "obo_corr.root_terms()"
   ]
  },
  {
   "cell_type": "code",
   "execution_count": 5,
   "metadata": {
    "collapsed": false
   },
   "outputs": [
    {
     "name": "stdout",
     "output_type": "stream",
     "text": [
      "   4144 FF\r\n",
      "   1225 UBERON\r\n",
      "    472 CL\r\n",
      "    208 DOID\r\n",
      "     40 CHEBI\r\n",
      "     38 NCBITaxon\r\n",
      "     20 EFO\r\n",
      "      6 UO\r\n",
      "      2 OBI\r\n",
      "      2 GO\r\n",
      "      2 BFO\r\n",
      "      1 treated_with\r\n",
      "      1 SpecificallyDependentContinuant\r\n",
      "      1 Role\r\n",
      "      1 ProcessualEntity\r\n",
      "      1 part_of\r\n",
      "      1 NCBITaxon_2759\r\n",
      "      1 NCBITaxon_10088\r\n",
      "      1 MaterialEntity\r\n",
      "      1 is_model_for\r\n",
      "      1 immediate_transformation_of\r\n",
      "      1 IAO\r\n",
      "      1 Disposition\r\n",
      "      1 develops_from\r\n",
      "      1 derives_from\r\n",
      "      1 CL_0002321\r\n",
      "      1 CL_0000057\r\n",
      "      1 CL_0000056\r\n"
     ]
    }
   ],
   "source": [
    "!cat ../data/ff-phase2-140729.obo | grep -e \"^id\" | cut -d\" \" -f2 | cut -d\":\" -f1 | sort | uniq -c | sort -nr"
   ]
  },
  {
   "cell_type": "markdown",
   "metadata": {},
   "source": [
    "We note the `UBERON` and `CL` (=cell) entities. \n",
    "\n",
    "[Uberon](http://uberon.github.io/) is an ontology annotation cell compartments. \n",
    "Cell entities derive from uberon entities at a certain level. "
   ]
  },
  {
   "cell_type": "markdown",
   "metadata": {},
   "source": [
    "## Create the network bottom up\n",
    "* add all parent nodes of *all* samples (-> we can't miss samples like that) \n",
    "* include all relations, not only is_a and not only descendants of human_sample (like that we would loose the UBERON cell compartment annotation) \n",
    "* we need a useful stopping criterion (otherwise we blow up the network with useless information)\n",
    "\n",
    "## $\\Rightarrow$ Create List of *delimiter nodes*\n",
    "We curate a list of nodes that mark a stopping point in their respective branch. I.e. we deem any information closer to the root than these nodes *non-informative*. This is the case if\n",
    "* The node is ubiquitous, i.e. applies to all samples (-> no information gain) \n",
    "* The node represents irrelevant information (e.g. time units)\n",
    "\n",
    "Count occurences of each term for each sample: "
   ]
  },
  {
   "cell_type": "code",
   "execution_count": 17,
   "metadata": {
    "collapsed": false
   },
   "outputs": [],
   "source": [
    "cntr = Counter()\n",
    "for obo_id in col_vars.obo_id: \n",
    "    for term in obo_corr.super_terms(obo_id): \n",
    "        cntr[term.id] += 1        "
   ]
  },
  {
   "cell_type": "markdown",
   "metadata": {},
   "source": [
    "Make a dataframe out of it, mark all ubiquitous nodes as delimiter: "
   ]
  },
  {
   "cell_type": "code",
   "execution_count": 47,
   "metadata": {
    "collapsed": false
   },
   "outputs": [],
   "source": [
    "delim_df = pd.DataFrame([{\n",
    "    \"obo_id\": obo_id,\n",
    "    \"name\": obo_corr.term(obo_id).name,\n",
    "    \"count\": count,\n",
    "    \"delimiter\": 1 if count >= len(col_vars) else 0\n",
    "} for obo_id, count in cntr.most_common()])\n",
    "delim_df.set_index(\"obo_id\", inplace=True)"
   ]
  },
  {
   "cell_type": "code",
   "execution_count": 48,
   "metadata": {
    "collapsed": false
   },
   "outputs": [
    {
     "data": {
      "text/html": [
       "<div>\n",
       "<table border=\"1\" class=\"dataframe\">\n",
       "  <thead>\n",
       "    <tr style=\"text-align: right;\">\n",
       "      <th></th>\n",
       "      <th>count</th>\n",
       "      <th>delimiter</th>\n",
       "      <th>name</th>\n",
       "    </tr>\n",
       "    <tr>\n",
       "      <th>obo_id</th>\n",
       "      <th></th>\n",
       "      <th></th>\n",
       "      <th></th>\n",
       "    </tr>\n",
       "  </thead>\n",
       "  <tbody>\n",
       "    <tr>\n",
       "      <th>BFO:0000040</th>\n",
       "      <td>1829</td>\n",
       "      <td>1</td>\n",
       "      <td>material entity</td>\n",
       "    </tr>\n",
       "    <tr>\n",
       "      <th>NCBITaxon:33154</th>\n",
       "      <td>1829</td>\n",
       "      <td>1</td>\n",
       "      <td>Opisthokonta</td>\n",
       "    </tr>\n",
       "    <tr>\n",
       "      <th>NCBITaxon:33213</th>\n",
       "      <td>1829</td>\n",
       "      <td>1</td>\n",
       "      <td>Bilateria</td>\n",
       "    </tr>\n",
       "    <tr>\n",
       "      <th>NCBITaxon:6072</th>\n",
       "      <td>1829</td>\n",
       "      <td>1</td>\n",
       "      <td>Eumetazoa</td>\n",
       "    </tr>\n",
       "    <tr>\n",
       "      <th>NCBITaxon:117570</th>\n",
       "      <td>1829</td>\n",
       "      <td>1</td>\n",
       "      <td>Teleostomi</td>\n",
       "    </tr>\n",
       "  </tbody>\n",
       "</table>\n",
       "</div>"
      ],
      "text/plain": [
       "                  count  delimiter             name\n",
       "obo_id                                             \n",
       "BFO:0000040       1829   1          material entity\n",
       "NCBITaxon:33154   1829   1          Opisthokonta   \n",
       "NCBITaxon:33213   1829   1          Bilateria      \n",
       "NCBITaxon:6072    1829   1          Eumetazoa      \n",
       "NCBITaxon:117570  1829   1          Teleostomi     "
      ]
     },
     "execution_count": 48,
     "metadata": {},
     "output_type": "execute_result"
    }
   ],
   "source": [
    "delim_df.sort_values(\"count\", ascending=False, inplace=True)\n",
    "delim_df.head()"
   ]
  },
  {
   "cell_type": "markdown",
   "metadata": {},
   "source": [
    "#### Mark time units as delimiters: "
   ]
  },
  {
   "cell_type": "code",
   "execution_count": 49,
   "metadata": {
    "collapsed": true
   },
   "outputs": [],
   "source": [
    "exclude_patterns = [\n",
    "    \"(\\d+) days sample$\",\n",
    "    \"(\\d+) minutes sample$\",\n",
    "    \"(\\d+) hr\",\n",
    "]"
   ]
  },
  {
   "cell_type": "code",
   "execution_count": 50,
   "metadata": {
    "collapsed": false
   },
   "outputs": [
    {
     "name": "stderr",
     "output_type": "stream",
     "text": [
      "/apps64/EasyBuild-Apps/software/Anaconda3/2.5.0/lib/python3.5/site-packages/ipykernel/__main__.py:2: UserWarning: This pattern has match groups. To actually get the groups, use str.extract.\n",
      "  from ipykernel import kernelapp as app\n"
     ]
    }
   ],
   "source": [
    "for pattern in exclude_patterns:\n",
    "    delim_df.loc[delim_df.name.str.contains(pattern), 'delimiter'] = 1"
   ]
  },
  {
   "cell_type": "markdown",
   "metadata": {},
   "source": [
    "#### Exclude all terms that are not part of the ontologies relevant for us: "
   ]
  },
  {
   "cell_type": "code",
   "execution_count": 51,
   "metadata": {
    "collapsed": false
   },
   "outputs": [
    {
     "name": "stderr",
     "output_type": "stream",
     "text": [
      "/apps64/EasyBuild-Apps/software/Anaconda3/2.5.0/lib/python3.5/site-packages/ipykernel/__main__.py:1: UserWarning: This pattern has match groups. To actually get the groups, use str.extract.\n",
      "  if __name__ == '__main__':\n"
     ]
    }
   ],
   "source": [
    "delim_df.loc[~delim_df.index.str.contains(\"^(FF|UBERON|GS|CL)\"), 'delimiter'] = 1"
   ]
  },
  {
   "cell_type": "markdown",
   "metadata": {},
   "source": [
    "### We manually annotate the delimiter nodes in the csv file. \n",
    "open the tsv file in e.g. excel"
   ]
  },
  {
   "cell_type": "code",
   "execution_count": 53,
   "metadata": {
    "collapsed": false
   },
   "outputs": [],
   "source": [
    "# delim_df.to_csv(\"../data/delimiter_nodes.tsv\", sep='\\t')\n",
    "delim_df = pd.read_csv(\"../data/delimiter_nodes.tsv\", sep=\"\\t\", index_col=0)"
   ]
  },
  {
   "cell_type": "code",
   "execution_count": 56,
   "metadata": {
    "collapsed": true
   },
   "outputs": [],
   "source": [
    "delimiter_nodes = delim_df[delim_df.delimiter == 1].index"
   ]
  },
  {
   "cell_type": "markdown",
   "metadata": {},
   "source": [
    "## Create the Network\n",
    "Limit network to primary cells"
   ]
  },
  {
   "cell_type": "code",
   "execution_count": 64,
   "metadata": {
    "collapsed": true
   },
   "outputs": [],
   "source": [
    "graph = nx.Graph()\n",
    "graph_test = nx.Graph()\n",
    "for obo_id in col_vars[col_vars.sample_type == \"primary cell\"].obo_id:\n",
    "    graph.add_node(obo_id)\n",
    "    graph_test.add_node(obo_id)"
   ]
  },
  {
   "cell_type": "code",
   "execution_count": 65,
   "metadata": {
    "collapsed": true
   },
   "outputs": [],
   "source": [
    "for node in graph.nodes():\n",
    "    build_tree_bottom_up_with_delimiters(obo_corr, node, graph, delimiter_nodes)\n",
    "# how would it look like with the uncorrected ontology? \n",
    "for node in graph_test.nodes():\n",
    "    build_tree_bottom_up_with_delimiters(obo, node, graph_test, delimiter_nodes)"
   ]
  },
  {
   "cell_type": "code",
   "execution_count": 66,
   "metadata": {
    "collapsed": true
   },
   "outputs": [],
   "source": [
    "graph_ = annotate_graph(graph, col_vars)\n",
    "graph_test_ = annotate_graph(graph_test, col_vars)"
   ]
  },
  {
   "cell_type": "code",
   "execution_count": 67,
   "metadata": {
    "collapsed": true
   },
   "outputs": [],
   "source": [
    "graph_ = relabel_nodes(obo_corr, graph_)\n",
    "graph_test_ = relabel_nodes(obo, graph_test_)"
   ]
  },
  {
   "cell_type": "code",
   "execution_count": 68,
   "metadata": {
    "collapsed": false
   },
   "outputs": [],
   "source": [
    "nx.write_graphml(graph_, \"../networks/create_network/primary_cells.graphml\")\n",
    "nx.write_graphml(graph_test_, \"../networks/create_network/primary_cells_control.graphml\")"
   ]
  },
  {
   "cell_type": "code",
   "execution_count": null,
   "metadata": {
    "collapsed": true
   },
   "outputs": [],
   "source": []
  }
 ],
 "metadata": {
  "kernelspec": {
   "display_name": "Python 3",
   "language": "python",
   "name": "python3"
  },
  "language_info": {
   "codemirror_mode": {
    "name": "ipython",
    "version": 3
   },
   "file_extension": ".py",
   "mimetype": "text/x-python",
   "name": "python",
   "nbconvert_exporter": "python",
   "pygments_lexer": "ipython3",
   "version": "3.5.1"
  }
 },
 "nbformat": 4,
 "nbformat_minor": 0
}
