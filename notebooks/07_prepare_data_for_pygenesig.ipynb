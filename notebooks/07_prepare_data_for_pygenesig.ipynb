{
 "cells": [
  {
   "cell_type": "code",
   "execution_count": 1,
   "metadata": {
    "collapsed": false
   },
   "outputs": [],
   "source": [
    "import sys\n",
    "sys.path.append(\"..\")\n",
    "\n",
    "%load_ext autoreload\n",
    "%autoreload 1\n",
    "%aimport pygenesig\n",
    "%matplotlib inline\n",
    "\n",
    "import numpy as np\n",
    "import pandas as pd\n",
    "from collections import OrderedDict\n",
    "import dask.dataframe as dd\n"
   ]
  },
  {
   "cell_type": "markdown",
   "metadata": {},
   "source": [
    "# Preprocess FANTOM5 data\n",
    "\n",
    "For the crossvalidation we need a\n",
    "* matrix of gene expression data\n",
    "* list of target classes (signatures) \n",
    "\n",
    "Here, we extract the relevant information from the gtex `.gct` and annotation files. "
   ]
  },
  {
   "cell_type": "code",
   "execution_count": 2,
   "metadata": {
    "collapsed": false
   },
   "outputs": [
    {
     "name": "stdout",
     "output_type": "stream",
     "text": [
      "annotation_notes.csv\t     fantom5-S1.xls\r\n",
      "biolayout\t\t     ff-phase2-140729.corr.obo\r\n",
      "column_vars.processed.csv    ff-phase2-140729.obo\r\n",
      "column_vars.txt\t\t     hg19.cage_peak_phase1and2combined_ann.txt\r\n",
      "corr_mat.primary.tsv\t     hg19.cage_peak_phase1and2combined_tpm_ann.osc.txt\r\n",
      "delimiter_nodes.tsv\t     missing_samples.txt\r\n",
      "f5_eset_primary_cells.Rdata  process_sample_descriptions.log\r\n",
      "f5_expressionset.Rdata\t     tmp\r\n",
      "fantom5_head2000.txt\r\n"
     ]
    }
   ],
   "source": [
    "!ls ../../f5-cell-signatures/data/"
   ]
  },
  {
   "cell_type": "code",
   "execution_count": 3,
   "metadata": {
    "collapsed": true
   },
   "outputs": [],
   "source": [
    "col_vars = pd.read_csv(\"../../f5-cell-signatures/data/column_vars.processed.csv\", sep=\",\", index_col=0)"
   ]
  },
  {
   "cell_type": "code",
   "execution_count": 6,
   "metadata": {
    "collapsed": false
   },
   "outputs": [],
   "source": [
    "gct = pd.read_csv(\"../../f5-cell-signatures/data/hg19.cage_peak_phase1and2combined_tpm_ann.osc.txt\", sep=\"\\t\", \n",
    "                  index_col=0, comment='#')\n",
    "gct = gct.iloc[4:, ] # remove stats"
   ]
  },
  {
   "cell_type": "code",
   "execution_count": 7,
   "metadata": {
    "collapsed": false
   },
   "outputs": [],
   "source": [
    "gene_id_map = pd.read_csv(\"../data/f5/FANTOM5cage_TX_ELEMENTS\", sep=\"\\t\")\n",
    "f5_to_geneid = dict(zip(gene_id_map.PROMOTERID, gene_id_map.GENEID))"
   ]
  },
  {
   "cell_type": "code",
   "execution_count": 8,
   "metadata": {
    "collapsed": false
   },
   "outputs": [],
   "source": [
    "gct = gct[gct.short_description.isin(f5_to_geneid.keys())] # gene symbols only "
   ]
  },
  {
   "cell_type": "code",
   "execution_count": 9,
   "metadata": {
    "collapsed": false
   },
   "outputs": [],
   "source": [
    "geneids = gct.short_description.apply(lambda x: f5_to_geneid[x])"
   ]
  },
  {
   "cell_type": "markdown",
   "metadata": {},
   "source": [
    "## tissues"
   ]
  },
  {
   "cell_type": "code",
   "execution_count": 10,
   "metadata": {
    "collapsed": false
   },
   "outputs": [],
   "source": [
    "col_vars_t = col_vars[col_vars.sample_type == \"tissue\"]\n",
    "gct_t = gct[col_vars_t.index]"
   ]
  },
  {
   "cell_type": "code",
   "execution_count": 11,
   "metadata": {
    "collapsed": false
   },
   "outputs": [
    {
     "name": "stderr",
     "output_type": "stream",
     "text": [
      "/pstore/apps/Anaconda3/2.5.0/lib/python3.5/site-packages/ipykernel/__main__.py:1: SettingWithCopyWarning: \n",
      "A value is trying to be set on a copy of a slice from a DataFrame.\n",
      "Try using .loc[row_indexer,col_indexer] = value instead\n",
      "\n",
      "See the caveats in the documentation: http://pandas.pydata.org/pandas-docs/stable/indexing.html#indexing-view-versus-copy\n",
      "  if __name__ == '__main__':\n"
     ]
    }
   ],
   "source": [
    "col_vars_t[\"tissue\"] = col_vars_t.name.apply(lambda x: x.split(\",\")[0])"
   ]
  },
  {
   "cell_type": "code",
   "execution_count": 12,
   "metadata": {
    "collapsed": false
   },
   "outputs": [
    {
     "data": {
      "text/plain": [
       "tissue\n",
       "Clontech Human Universal Reference Total RNA         1\n",
       "Fingernail (including nail plate                     1\n",
       "SABiosciences XpressRef Human Universal Total RNA    1\n",
       "Skin - palm                                          1\n",
       "Smooth Muscle Cells - Bronchial                      1\n",
       "Universal RNA - Human Normal Tissues Biochain        1\n",
       "Urethra                                              1\n",
       "achilles tendon                                      1\n",
       "adipose                                              4\n",
       "adipose tissue                                       1\n",
       "adrenal gland                                        1\n",
       "amygdala                                             2\n",
       "aorta                                                1\n",
       "appendix                                             1\n",
       "artery                                               1\n",
       "bladder                                              1\n",
       "blood                                                1\n",
       "bone marrow                                          1\n",
       "brain                                                3\n",
       "breast                                               1\n",
       "caudate nucleus                                      3\n",
       "cerebellum                                           2\n",
       "cerebellum - adult                                   1\n",
       "cerebral meninges                                    1\n",
       "cerebrospinal fluid                                  1\n",
       "cervix                                               1\n",
       "colon                                                3\n",
       "corpus callosum                                      1\n",
       "cruciate ligament                                    1\n",
       "diaphragm                                            1\n",
       "                                                    ..\n",
       "putamen                                              5\n",
       "rectum                                               1\n",
       "retina                                               1\n",
       "salivary gland                                       1\n",
       "seminal vesicle                                      1\n",
       "skeletal muscle                                      2\n",
       "skeletal muscle - soleus muscle                      1\n",
       "skin                                                 2\n",
       "small intestine                                      2\n",
       "smooth muscle                                        1\n",
       "spinal cord                                          4\n",
       "spleen                                               2\n",
       "stomach                                              1\n",
       "submaxillary gland                                   1\n",
       "substantia nigra                                     2\n",
       "substantia nigria                                    1\n",
       "temporal lobe                                        3\n",
       "testis                                               2\n",
       "thalamus                                             4\n",
       "throat                                               2\n",
       "thymus                                               2\n",
       "thyroid                                              2\n",
       "tongue                                               2\n",
       "tongue epidermis (fungiform papillae)                1\n",
       "tonsil                                               1\n",
       "trachea                                              2\n",
       "umbilical cord                                       1\n",
       "uterus                                               2\n",
       "vagina                                               1\n",
       "vein                                                 1\n",
       "Name: name, dtype: int64"
      ]
     },
     "execution_count": 12,
     "metadata": {},
     "output_type": "execute_result"
    }
   ],
   "source": [
    "grouped = col_vars_t.groupby(\"tissue\")\n",
    "tissue_count = grouped.count().name\n",
    "tissue_count"
   ]
  },
  {
   "cell_type": "markdown",
   "metadata": {},
   "source": [
    "### store results"
   ]
  },
  {
   "cell_type": "code",
   "execution_count": 14,
   "metadata": {
    "collapsed": true
   },
   "outputs": [],
   "source": [
    "exprs = gct_t.as_matrix()\n",
    "np.save(\"../data/f5/tissue_exprs.npy\", exprs)"
   ]
  },
  {
   "cell_type": "code",
   "execution_count": 15,
   "metadata": {
    "collapsed": true
   },
   "outputs": [],
   "source": [
    "target = col_vars_t.tissue\n",
    "np.savetxt(\"../data/f5/tissue_target.csv\", target, delimiter=\",\", fmt=\"%s\")"
   ]
  },
  {
   "cell_type": "code",
   "execution_count": 16,
   "metadata": {
    "collapsed": true
   },
   "outputs": [],
   "source": [
    "geneids = geneids[gct_t.index]\n",
    "geneids.to_csv(\"../data/f5/tissue_gene_ids.csv\")"
   ]
  },
  {
   "cell_type": "markdown",
   "metadata": {},
   "source": [
    "## primary cells"
   ]
  },
  {
   "cell_type": "code",
   "execution_count": 17,
   "metadata": {
    "collapsed": true
   },
   "outputs": [],
   "source": [
    "col_vars_p = col_vars[col_vars.sample_type == \"primary cell\"]\n",
    "gct_p = gct[col_vars_p.index]"
   ]
  },
  {
   "cell_type": "code",
   "execution_count": 18,
   "metadata": {
    "collapsed": false
   },
   "outputs": [
    {
     "name": "stderr",
     "output_type": "stream",
     "text": [
      "/pstore/apps/Anaconda3/2.5.0/lib/python3.5/site-packages/ipykernel/__main__.py:1: SettingWithCopyWarning: \n",
      "A value is trying to be set on a copy of a slice from a DataFrame.\n",
      "Try using .loc[row_indexer,col_indexer] = value instead\n",
      "\n",
      "See the caveats in the documentation: http://pandas.pydata.org/pandas-docs/stable/indexing.html#indexing-view-versus-copy\n",
      "  if __name__ == '__main__':\n",
      "/pstore/apps/Anaconda3/2.5.0/lib/python3.5/site-packages/ipykernel/__main__.py:2: SettingWithCopyWarning: \n",
      "A value is trying to be set on a copy of a slice from a DataFrame.\n",
      "Try using .loc[row_indexer,col_indexer] = value instead\n",
      "\n",
      "See the caveats in the documentation: http://pandas.pydata.org/pandas-docs/stable/indexing.html#indexing-view-versus-copy\n",
      "  from ipykernel import kernelapp as app\n"
     ]
    }
   ],
   "source": [
    "col_vars_p[\"type_fine\"] = col_vars_p.name.apply(lambda x: x.split(\",\")[0])\n",
    "col_vars_p[\"type_coarse\"] = col_vars_p.type_fine.apply(lambda x: x.split(\"-\")[0].strip())"
   ]
  },
  {
   "cell_type": "code",
   "execution_count": 19,
   "metadata": {
    "collapsed": false
   },
   "outputs": [
    {
     "data": {
      "text/plain": [
       "type_fine\n",
       "Adipocyte - breast                                                    2\n",
       "Adipocyte - omental                                                   3\n",
       "Adipocyte - perirenal                                                 1\n",
       "Adipocyte - subcutaneous                                              3\n",
       "Alveolar Epithelial Cells                                             2\n",
       "Amniotic Epithelial Cells                                             3\n",
       "Anulus Pulposus Cell                                                  2\n",
       "Aortic smooth muscle cell response to FGF2                            2\n",
       "Aortic smooth muscle cell response to IL1b                            2\n",
       "Astrocyte - cerebellum                                                3\n",
       "Astrocyte - cerebral cortex                                           3\n",
       "Basophils                                                             3\n",
       "Bronchial Epithelial Cell                                             7\n",
       "CD133-positive stem cells - adult bone marrow derived                 1\n",
       "CD133-positive stem cells - cord blood derived                        1\n",
       "CD14+ monocyte derived endothelial progenitor cells                   3\n",
       "CD14-CD16-positive Monocytes                                          3\n",
       "CD14-positive Monocytes                                               3\n",
       "CD14-positive monocytes - mock treated                                3\n",
       "CD14-positive monocytes - treated with B-glucan                       3\n",
       "CD14-positive monocytes - treated with BCG                            3\n",
       "CD14-positive monocytes - treated with Candida                        3\n",
       "CD14-positive monocytes - treated with Cryptococcus                   3\n",
       "CD14-positive monocytes - treated with Group A streptococci           3\n",
       "CD14-positive monocytes - treated with IFN + N-hexane                 3\n",
       "CD14-positive monocytes - treated with Salmonella                     3\n",
       "CD14-positive monocytes - treated with Trehalose dimycolate (TDM)     3\n",
       "CD14-positive monocytes - treated with lipopolysaccharide             3\n",
       "CD14-positiveCD16- Monocytes                                          3\n",
       "CD14-positiveCD16-positive Monocytes                                  3\n",
       "                                                                     ..\n",
       "Smooth Muscle Cells - Umbilical artery                                1\n",
       "Smooth Muscle Cells - Uterine                                         2\n",
       "Smooth muscle cells - airway                                         10\n",
       "Synoviocyte                                                           3\n",
       "Trabecular Meshwork Cells                                             3\n",
       "Tracheal Epithelial Cells                                             3\n",
       "Urothelial Cells                                                      3\n",
       "Urothelial cells                                                      1\n",
       "amniotic membrane cells                                               3\n",
       "chorionic membrane cells                                              3\n",
       "common myeloid progenitor CMP                                         2\n",
       "granulocyte macrophage progenitor                                     3\n",
       "iPS differentiation to neuron                                         3\n",
       "immature langerhans cells                                             2\n",
       "mature adipocyte                                                      4\n",
       "medial frontal gyrus                                                  1\n",
       "mesenchymal precursor cell - adipose                                  3\n",
       "mesenchymal precursor cell - bone marrow                              3\n",
       "mesenchymal precursor cell - cardiac                                  4\n",
       "mesenchymal precursor cell - ovarian cancer left ovary                4\n",
       "mesenchymal precursor cell - ovarian cancer metastasis                4\n",
       "mesenchymal precursor cell - ovarian cancer right ovary               5\n",
       "mesenchymal stem cells (adipose derived)                             17\n",
       "mesenchymal stem cells adipose derived                               37\n",
       "migratory langerhans cells                                            3\n",
       "nasal epithelial cells                                                3\n",
       "neutrophil PMN                                                        3\n",
       "promyelocytes/myelocytes PMC                                          3\n",
       "salivary acinar cells                                                 3\n",
       "tenocyte                                                              3\n",
       "Name: name, dtype: int64"
      ]
     },
     "execution_count": 19,
     "metadata": {},
     "output_type": "execute_result"
    }
   ],
   "source": [
    "grouped = col_vars_p.groupby(\"type_fine\")\n",
    "tissue_count = grouped.count().name\n",
    "tissue_count"
   ]
  },
  {
   "cell_type": "code",
   "execution_count": 20,
   "metadata": {
    "collapsed": false
   },
   "outputs": [
    {
     "data": {
      "text/plain": [
       "type_coarse\n",
       "Adipocyte                                               9\n",
       "Alveolar Epithelial Cells                               2\n",
       "Amniotic Epithelial Cells                               3\n",
       "Anulus Pulposus Cell                                    2\n",
       "Aortic smooth muscle cell response to FGF2              2\n",
       "Aortic smooth muscle cell response to IL1b              2\n",
       "Astrocyte                                               6\n",
       "Basophils                                               3\n",
       "Bronchial Epithelial Cell                               7\n",
       "CD133                                                   2\n",
       "CD14                                                   42\n",
       "CD14+ monocyte derived endothelial progenitor cells     3\n",
       "CD19                                                   11\n",
       "CD34                                                    4\n",
       "CD4                                                     3\n",
       "CD4+CD25                                               10\n",
       "CD4+CD25+CD45RA                                         6\n",
       "CD4+CD25+CD45RA+ naive regulatory T cells               3\n",
       "CD4+CD25+CD45RA+ naive regulatory T cells expanded      1\n",
       "CD8                                                    11\n",
       "Cardiac Myocyte                                         3\n",
       "Chondrocyte                                             5\n",
       "Ciliary Epithelial Cells                                3\n",
       "Corneal Epithelial Cells                                3\n",
       "Dendritic Cells                                         7\n",
       "Endothelial Cells                                      21\n",
       "Eosinophils                                             3\n",
       "Esophageal Epithelial Cells                             3\n",
       "Fibroblast                                             73\n",
       "Gingival epithelial cells                               3\n",
       "                                                       ..\n",
       "Sebocyte                                                3\n",
       "Sertoli Cells                                           2\n",
       "Skeletal Muscle Cells                                   6\n",
       "Skeletal Muscle Satellite Cells                         3\n",
       "Skeletal muscle cells differentiated into Myotubes      3\n",
       "Small Airway Epithelial Cells                           7\n",
       "Smooth Muscle Cells                                    50\n",
       "Smooth muscle cells                                    10\n",
       "Synoviocyte                                             3\n",
       "Trabecular Meshwork Cells                               3\n",
       "Tracheal Epithelial Cells                               3\n",
       "Urothelial Cells                                        3\n",
       "Urothelial cells                                        1\n",
       "amniotic membrane cells                                 3\n",
       "chorionic membrane cells                                3\n",
       "common myeloid progenitor CMP                           2\n",
       "granulocyte macrophage progenitor                       3\n",
       "iPS differentiation to neuron                           3\n",
       "immature langerhans cells                               2\n",
       "mature adipocyte                                        4\n",
       "medial frontal gyrus                                    1\n",
       "mesenchymal precursor cell                             23\n",
       "mesenchymal stem cells (adipose derived)               17\n",
       "mesenchymal stem cells adipose derived                 37\n",
       "migratory langerhans cells                              3\n",
       "nasal epithelial cells                                  3\n",
       "neutrophil PMN                                          3\n",
       "promyelocytes/myelocytes PMC                            3\n",
       "salivary acinar cells                                   3\n",
       "tenocyte                                                3\n",
       "Name: name, dtype: int64"
      ]
     },
     "execution_count": 20,
     "metadata": {},
     "output_type": "execute_result"
    }
   ],
   "source": [
    "grouped = col_vars_p.groupby(\"type_coarse\")\n",
    "tissue_count = grouped.count().name\n",
    "tissue_count"
   ]
  },
  {
   "cell_type": "code",
   "execution_count": 21,
   "metadata": {
    "collapsed": true
   },
   "outputs": [],
   "source": [
    "geneids = geneids[gct_p.index]"
   ]
  },
  {
   "cell_type": "markdown",
   "metadata": {},
   "source": [
    "### store data"
   ]
  },
  {
   "cell_type": "code",
   "execution_count": 22,
   "metadata": {
    "collapsed": true
   },
   "outputs": [],
   "source": [
    "exprs = gct_p.as_matrix()\n",
    "np.save(\"../data/f5/primary_exprs.npy\", exprs)"
   ]
  },
  {
   "cell_type": "code",
   "execution_count": 23,
   "metadata": {
    "collapsed": true
   },
   "outputs": [],
   "source": [
    "np.savetxt(\"../data/f5/primary_target_fine.csv\", col_vars_p.type_fine, delimiter=\",\", fmt=\"%s\")\n",
    "np.savetxt(\"../data/f5/primary_target_coarse.csv\", col_vars_p.type_coarse, delimiter=\",\", fmt=\"%s\")"
   ]
  },
  {
   "cell_type": "code",
   "execution_count": 24,
   "metadata": {
    "collapsed": true
   },
   "outputs": [],
   "source": [
    "geneids = geneids[gct_p.index]\n",
    "geneids.to_csv(\"../data/f5/primary_gene_ids.csv\")"
   ]
  },
  {
   "cell_type": "code",
   "execution_count": null,
   "metadata": {
    "collapsed": true
   },
   "outputs": [],
   "source": []
  }
 ],
 "metadata": {
  "kernelspec": {
   "display_name": "Python 3",
   "language": "python",
   "name": "python3"
  },
  "language_info": {
   "codemirror_mode": {
    "name": "ipython",
    "version": 3
   },
   "file_extension": ".py",
   "mimetype": "text/x-python",
   "name": "python",
   "nbconvert_exporter": "python",
   "pygments_lexer": "ipython3",
   "version": "3.5.1"
  }
 },
 "nbformat": 4,
 "nbformat_minor": 0
}
