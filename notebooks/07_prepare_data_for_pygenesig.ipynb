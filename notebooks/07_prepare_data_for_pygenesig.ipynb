{
 "cells": [
  {
   "cell_type": "code",
   "execution_count": 1,
   "metadata": {
    "collapsed": false
   },
   "outputs": [],
   "source": [
    "import sys\n",
    "sys.path.append(\"../../pygenesig\")\n",
    "\n",
    "%load_ext autoreload\n",
    "%autoreload 1\n",
    "%aimport pygenesig\n",
    "%aimport pygenesig.tools\n",
    "%matplotlib inline\n",
    "\n",
    "import numpy as np\n",
    "import pandas as pd\n",
    "from collections import OrderedDict\n",
    "import dask.dataframe as dd\n",
    "from pygenesig.tools import collapse_matrix\n",
    "from pygenesig.file_formats import * "
   ]
  },
  {
   "cell_type": "markdown",
   "metadata": {},
   "source": [
    "# Preprocess FANTOM5 data\n",
    "\n",
    "In this notebook, we process the fantom5 data for the use with *pygenesig* so that we can easily create and validate signatures. \n",
    "\n",
    "For the crossvalidation we need a\n",
    "* matrix of gene expression data\n",
    "* list of target classes (signatures) \n",
    "\n",
    "Here, we extract the relevant information from the fantom5 expression and annotation files"
   ]
  },
  {
   "cell_type": "markdown",
   "metadata": {},
   "source": [
    "## Load data"
   ]
  },
  {
   "cell_type": "code",
   "execution_count": 2,
   "metadata": {
    "collapsed": false
   },
   "outputs": [
    {
     "name": "stdout",
     "output_type": "stream",
     "text": [
      "annotation_notes.csv\t     fantom5-S1.xls\r\n",
      "biolayout\t\t     ff-phase2-140729.corr.obo\r\n",
      "column_vars.processed.csv    ff-phase2-140729.obo\r\n",
      "column_vars.txt\t\t     hg19.cage_peak_phase1and2combined_ann.txt\r\n",
      "corr_mat.primary.tsv\t     hg19.cage_peak_phase1and2combined_tpm_ann.osc.txt\r\n",
      "delimiter_nodes.tsv\t     missing_samples.txt\r\n",
      "f5_eset_primary_cells.Rdata  process_sample_descriptions.log\r\n",
      "f5_expressionset.Rdata\t     pygenesig\r\n",
      "fantom5_head2000.txt\t     tmp\r\n"
     ]
    }
   ],
   "source": [
    "!ls ../data"
   ]
  },
  {
   "cell_type": "code",
   "execution_count": 3,
   "metadata": {
    "collapsed": true
   },
   "outputs": [],
   "source": [
    "col_vars = pd.read_csv(\"../data/column_vars.processed.csv\", sep=\",\", index_col=0)"
   ]
  },
  {
   "cell_type": "code",
   "execution_count": 4,
   "metadata": {
    "collapsed": false
   },
   "outputs": [],
   "source": [
    "gct = pd.read_csv(\"../data/hg19.cage_peak_phase1and2combined_tpm_ann.osc.txt\", sep=\"\\t\", \n",
    "                  index_col=0, comment='#')\n",
    "gct = gct.iloc[4:, ] # remove stats"
   ]
  },
  {
   "cell_type": "markdown",
   "metadata": {},
   "source": [
    "## process data"
   ]
  },
  {
   "cell_type": "code",
   "execution_count": 5,
   "metadata": {
    "collapsed": false
   },
   "outputs": [],
   "source": [
    "gene_id_map = pd.read_csv(\"../data/pygenesig/FANTOM5cage_TX_ELEMENTS\", sep=\"\\t\")\n",
    "f5_to_geneid = dict(zip(gene_id_map.PROMOTERID, gene_id_map.GENEID))"
   ]
  },
  {
   "cell_type": "code",
   "execution_count": 6,
   "metadata": {
    "collapsed": false
   },
   "outputs": [],
   "source": [
    "gct = gct[gct.short_description.isin(f5_to_geneid.keys())] # gene symbols only "
   ]
  },
  {
   "cell_type": "code",
   "execution_count": 7,
   "metadata": {
    "collapsed": false
   },
   "outputs": [],
   "source": [
    "geneids = gct.short_description.apply(lambda x: f5_to_geneid[x])\n",
    "fdata = gct.iloc[:,:6].assign(ora_gene_id=geneids)"
   ]
  },
  {
   "cell_type": "code",
   "execution_count": 8,
   "metadata": {
    "collapsed": false
   },
   "outputs": [],
   "source": [
    "exprs = gct.iloc[:,6:].as_matrix()"
   ]
  },
  {
   "cell_type": "code",
   "execution_count": 9,
   "metadata": {
    "collapsed": false
   },
   "outputs": [
    {
     "data": {
      "text/plain": [
       "((91036, 7), (91036, 1829), (1829, 9))"
      ]
     },
     "execution_count": 9,
     "metadata": {},
     "output_type": "execute_result"
    }
   ],
   "source": [
    "fdata.shape, exprs.shape, col_vars.shape"
   ]
  },
  {
   "cell_type": "markdown",
   "metadata": {},
   "source": [
    "### aggregate by gene"
   ]
  },
  {
   "cell_type": "code",
   "execution_count": 10,
   "metadata": {
    "collapsed": true
   },
   "outputs": [],
   "source": [
    "exprs_by_gene_sum = collapse_matrix(exprs, fdata.ora_gene_id.tolist(), axis=0, aggregate_fun=np.sum)\n",
    "fdata_by_gene_sum = pd.DataFrame().assign(ora_id=exprs_by_gene_sum.index)\n",
    "exprs_by_gene_sum = exprs_by_gene_sum.as_matrix()"
   ]
  },
  {
   "cell_type": "markdown",
   "metadata": {},
   "source": [
    "## store fdata"
   ]
  },
  {
   "cell_type": "code",
   "execution_count": 11,
   "metadata": {
    "collapsed": true
   },
   "outputs": [],
   "source": [
    "!mkdir -p ../data/pygenesig/by_promotor ../data/pygenesig/by_gene_sum"
   ]
  },
  {
   "cell_type": "code",
   "execution_count": 12,
   "metadata": {
    "collapsed": true
   },
   "outputs": [],
   "source": [
    "fdata.to_csv(\"../data/pygenesig/by_promotor/fdata.csv\")\n",
    "fdata_by_gene_sum.to_csv(\"../data/pygenesig/by_gene_sum/fdata.csv\")"
   ]
  },
  {
   "cell_type": "markdown",
   "metadata": {},
   "source": [
    "### annotate oracle ids"
   ]
  },
  {
   "cell_type": "code",
   "execution_count": 13,
   "metadata": {
    "collapsed": false
   },
   "outputs": [
    {
     "name": "stdout",
     "output_type": "stream",
     "text": [
      "[1] \"Estabilshin RJDBC connection to bin\"\n",
      "Parsed with column specification:\n",
      "cols(\n",
      "  X1 = col_integer(),\n",
      "  ora_id = col_integer()\n",
      ")\n",
      "Warning message:\n",
      "Missing column names filled in: 'X1' [1] \n",
      "[1] \"Using estabilshed database connection to bin\"\n",
      "[1] TRUE\n",
      "[1] TRUE\n"
     ]
    }
   ],
   "source": [
    "!Rscript 07_annotate_oracle_id.R"
   ]
  },
  {
   "cell_type": "code",
   "execution_count": 14,
   "metadata": {
    "collapsed": true
   },
   "outputs": [],
   "source": [
    "gene_symbols = pd.read_csv(\"../data/pygenesig/by_gene_sum/gene_symbols.csv\", header=None)"
   ]
  },
  {
   "cell_type": "code",
   "execution_count": 15,
   "metadata": {
    "collapsed": false
   },
   "outputs": [
    {
     "data": {
      "text/plain": [
       "((20029, 1829), (20029, 1), (20029, 1))"
      ]
     },
     "execution_count": 15,
     "metadata": {},
     "output_type": "execute_result"
    }
   ],
   "source": [
    "exprs_by_gene_sum.shape, fdata_by_gene_sum.shape, gene_symbols.shape"
   ]
  },
  {
   "cell_type": "markdown",
   "metadata": {},
   "source": [
    "## tissues\n",
    "Extract data for tissue samples"
   ]
  },
  {
   "cell_type": "code",
   "execution_count": 17,
   "metadata": {
    "collapsed": false
   },
   "outputs": [],
   "source": [
    "pdata_t = col_vars[col_vars.sample_type == \"tissue\"]\n",
    "pdata_t = pdata_t.assign(tissue=pdata_t.name.apply(lambda x: x.split(\",\")[0].lower()))"
   ]
  },
  {
   "cell_type": "code",
   "execution_count": 37,
   "metadata": {
    "collapsed": true
   },
   "outputs": [],
   "source": [
    "exprs_t = exprs[:, pdata_t.index]\n",
    "exprs_by_gene_sum_t = exprs_by_gene_sum[:, pdata_t.index]"
   ]
  },
  {
   "cell_type": "code",
   "execution_count": 38,
   "metadata": {
    "collapsed": false,
    "scrolled": true
   },
   "outputs": [
    {
     "data": {
      "text/plain": [
       "tissue\n",
       "achilles tendon                                  1\n",
       "adipose                                          4\n",
       "adipose tissue                                   1\n",
       "adrenal gland                                    1\n",
       "amygdala                                         2\n",
       "aorta                                            1\n",
       "appendix                                         1\n",
       "artery                                           1\n",
       "bladder                                          1\n",
       "blood                                            1\n",
       "bone marrow                                      1\n",
       "brain                                            3\n",
       "breast                                           1\n",
       "caudate nucleus                                  3\n",
       "cerebellum                                       2\n",
       "cerebellum - adult                               1\n",
       "cerebral meninges                                1\n",
       "cerebrospinal fluid                              1\n",
       "cervix                                           1\n",
       "clontech human universal reference total rna     1\n",
       "colon                                            3\n",
       "corpus callosum                                  1\n",
       "cruciate ligament                                1\n",
       "diaphragm                                        1\n",
       "diencephalon                                     1\n",
       "ductus deferens                                  1\n",
       "duodenum                                         2\n",
       "dura mater                                       1\n",
       "epididymis                                       1\n",
       "esophagus                                        1\n",
       "                                                ..\n",
       "seminal vesicle                                  1\n",
       "skeletal muscle                                  2\n",
       "skeletal muscle - soleus muscle                  1\n",
       "skin                                             2\n",
       "skin - palm                                      1\n",
       "small intestine                                  2\n",
       "smooth muscle                                    1\n",
       "smooth muscle cells - bronchial                  1\n",
       "spinal cord                                      4\n",
       "spleen                                           2\n",
       "stomach                                          1\n",
       "submaxillary gland                               1\n",
       "substantia nigra                                 2\n",
       "substantia nigria                                1\n",
       "temporal lobe                                    3\n",
       "testis                                           2\n",
       "thalamus                                         4\n",
       "throat                                           2\n",
       "thymus                                           2\n",
       "thyroid                                          2\n",
       "tongue                                           2\n",
       "tongue epidermis (fungiform papillae)            1\n",
       "tonsil                                           1\n",
       "trachea                                          2\n",
       "umbilical cord                                   1\n",
       "universal rna - human normal tissues biochain    1\n",
       "urethra                                          1\n",
       "uterus                                           2\n",
       "vagina                                           1\n",
       "vein                                             1\n",
       "Name: name, dtype: int64"
      ]
     },
     "execution_count": 38,
     "metadata": {},
     "output_type": "execute_result"
    }
   ],
   "source": [
    "grouped = pdata_t.groupby(\"tissue\")\n",
    "tissue_count = grouped.count().name\n",
    "tissue_count"
   ]
  },
  {
   "cell_type": "code",
   "execution_count": 39,
   "metadata": {
    "collapsed": true
   },
   "outputs": [],
   "source": [
    "target_t = pdata_t.tissue.as_matrix()"
   ]
  },
  {
   "cell_type": "code",
   "execution_count": 40,
   "metadata": {
    "collapsed": false
   },
   "outputs": [
    {
     "data": {
      "text/plain": [
       "((91036, 174), (20029, 174), (174,))"
      ]
     },
     "execution_count": 40,
     "metadata": {},
     "output_type": "execute_result"
    }
   ],
   "source": [
    "exprs_t.shape, exprs_by_gene_sum_t.shape, target_t.shape"
   ]
  },
  {
   "cell_type": "markdown",
   "metadata": {},
   "source": [
    "### store results"
   ]
  },
  {
   "cell_type": "code",
   "execution_count": 41,
   "metadata": {
    "collapsed": false
   },
   "outputs": [],
   "source": [
    "write_expr(exprs_t, \"../data/pygenesig/by_promotor/tissue_exprs.npy\")\n",
    "write_expr(exprs_by_gene_sum_t, \"../data/pygenesig/by_gene_sum/tissue_exprs.npy\")"
   ]
  },
  {
   "cell_type": "code",
   "execution_count": 42,
   "metadata": {
    "collapsed": false
   },
   "outputs": [],
   "source": [
    "np.savetxt(\"../data/pygenesig/tissue_target.csv\", target_t, delimiter=\",\", fmt=\"%s\")"
   ]
  },
  {
   "cell_type": "markdown",
   "metadata": {},
   "source": [
    "## primary cells\n",
    "Extract data for primary cell samples. \n",
    "\n",
    "We distinguish between *fine* and *coarse*. We take the pragmatic approach to rely on the sample name as annotation. \n",
    "We split the sample name at the dash. The part before the dash is 'coarse' the part behind 'fine'. \n",
    "\n",
    "For the *coarse* dataset, we discard all cell types that do not have at least 2 samples. "
   ]
  },
  {
   "cell_type": "code",
   "execution_count": 43,
   "metadata": {
    "collapsed": true
   },
   "outputs": [],
   "source": [
    "pdata_p = col_vars[col_vars.sample_type == \"primary cell\"]"
   ]
  },
  {
   "cell_type": "code",
   "execution_count": 44,
   "metadata": {
    "collapsed": false
   },
   "outputs": [],
   "source": [
    "pdata_p = pdata_p.assign(type_fine=pdata_p.name.apply(lambda x: x.split(\",\")[0].lower()))\n",
    "pdata_p = pdata_p.assign(type_coarse=pdata_p.type_fine.apply(lambda x: x.split(\"-\")[0].strip().lower()))"
   ]
  },
  {
   "cell_type": "code",
   "execution_count": 45,
   "metadata": {
    "collapsed": false,
    "scrolled": true
   },
   "outputs": [
    {
     "data": {
      "text/plain": [
       "type_fine\n",
       "adipocyte - breast                                                      2\n",
       "adipocyte - omental                                                     3\n",
       "adipocyte - perirenal                                                   1\n",
       "adipocyte - subcutaneous                                                3\n",
       "alveolar epithelial cells                                               2\n",
       "amniotic epithelial cells                                               3\n",
       "amniotic membrane cells                                                 3\n",
       "anulus pulposus cell                                                    2\n",
       "aortic smooth muscle cell response to fgf2                              2\n",
       "aortic smooth muscle cell response to il1b                              2\n",
       "astrocyte - cerebellum                                                  3\n",
       "astrocyte - cerebral cortex                                             3\n",
       "basophils                                                               3\n",
       "bronchial epithelial cell                                               7\n",
       "cardiac myocyte                                                         3\n",
       "cd133-positive stem cells - adult bone marrow derived                   1\n",
       "cd133-positive stem cells - cord blood derived                          1\n",
       "cd14+ monocyte derived endothelial progenitor cells                     3\n",
       "cd14-cd16-positive monocytes                                            3\n",
       "cd14-positive monocytes                                                 3\n",
       "cd14-positive monocytes - mock treated                                  3\n",
       "cd14-positive monocytes - treated with b-glucan                         3\n",
       "cd14-positive monocytes - treated with bcg                              3\n",
       "cd14-positive monocytes - treated with candida                          3\n",
       "cd14-positive monocytes - treated with cryptococcus                     3\n",
       "cd14-positive monocytes - treated with group a streptococci             3\n",
       "cd14-positive monocytes - treated with ifn + n-hexane                   3\n",
       "cd14-positive monocytes - treated with lipopolysaccharide               3\n",
       "cd14-positive monocytes - treated with salmonella                       3\n",
       "cd14-positive monocytes - treated with trehalose dimycolate (tdm)       3\n",
       "                                                                       ..\n",
       "sebocyte                                                                3\n",
       "sertoli cells                                                           2\n",
       "skeletal muscle cells                                                   6\n",
       "skeletal muscle cells differentiated into myotubes - multinucleated     3\n",
       "skeletal muscle satellite cells                                         3\n",
       "small airway epithelial cells                                           7\n",
       "smooth muscle cells - airway                                           10\n",
       "smooth muscle cells - aortic                                            6\n",
       "smooth muscle cells - bladder                                           1\n",
       "smooth muscle cells - brachiocephalic                                   3\n",
       "smooth muscle cells - brain vascular                                    3\n",
       "smooth muscle cells - bronchial                                         1\n",
       "smooth muscle cells - carotid                                           3\n",
       "smooth muscle cells - colonic                                           3\n",
       "smooth muscle cells - coronary artery                                   3\n",
       "smooth muscle cells - esophageal                                        2\n",
       "smooth muscle cells - internal thoracic artery                          3\n",
       "smooth muscle cells - intestinal                                        1\n",
       "smooth muscle cells - prostate                                          3\n",
       "smooth muscle cells - pulmonary artery                                  3\n",
       "smooth muscle cells - subclavian artery                                 3\n",
       "smooth muscle cells - tracheal                                          3\n",
       "smooth muscle cells - umbilical artery                                  4\n",
       "smooth muscle cells - umbilical vein                                    3\n",
       "smooth muscle cells - uterine                                           2\n",
       "synoviocyte                                                             3\n",
       "tenocyte                                                                3\n",
       "trabecular meshwork cells                                               3\n",
       "tracheal epithelial cells                                               3\n",
       "urothelial cells                                                        4\n",
       "Name: name, dtype: int64"
      ]
     },
     "execution_count": 45,
     "metadata": {},
     "output_type": "execute_result"
    }
   ],
   "source": [
    "grouped = pdata_p.groupby(\"type_fine\")\n",
    "tissue_count = grouped.count().name\n",
    "tissue_count"
   ]
  },
  {
   "cell_type": "code",
   "execution_count": 46,
   "metadata": {
    "collapsed": false,
    "scrolled": true
   },
   "outputs": [
    {
     "name": "stdout",
     "output_type": "stream",
     "text": [
      "type_coarse\n",
      "adipocyte                                                   9\n",
      "alveolar epithelial cells                                   2\n",
      "amniotic epithelial cells                                   3\n",
      "amniotic membrane cells                                     3\n",
      "anulus pulposus cell                                        2\n",
      "aortic smooth muscle cell response to fgf2                  2\n",
      "aortic smooth muscle cell response to il1b                  2\n",
      "astrocyte                                                   6\n",
      "basophils                                                   3\n",
      "bronchial epithelial cell                                   7\n",
      "cardiac myocyte                                             3\n",
      "cd133                                                       2\n",
      "cd14                                                       42\n",
      "cd14+ monocyte derived endothelial progenitor cells         3\n",
      "cd19                                                       11\n",
      "cd34                                                        4\n",
      "cd4                                                         3\n",
      "cd4+cd25                                                   10\n",
      "cd4+cd25+cd45ra                                             6\n",
      "cd4+cd25+cd45ra+ naive regulatory t cells                   3\n",
      "cd4+cd25+cd45ra+ naive regulatory t cells expanded          1\n",
      "cd8                                                        11\n",
      "chondrocyte                                                 5\n",
      "chorionic membrane cells                                    3\n",
      "ciliary epithelial cells                                    3\n",
      "common myeloid progenitor cmp                               2\n",
      "corneal epithelial cells                                    3\n",
      "dendritic cells                                             7\n",
      "endothelial cells                                          21\n",
      "eosinophils                                                 3\n",
      "esophageal epithelial cells                                 3\n",
      "fibroblast                                                 73\n",
      "gingival epithelial cells                                   3\n",
      "granulocyte macrophage progenitor                           3\n",
      "hair follicle dermal papilla cells                          3\n",
      "hair follicle outer root sheath cells                       2\n",
      "hepatic sinusoidal endothelial cells                        3\n",
      "hepatic stellate cells (lipocyte)                           3\n",
      "hepatocyte                                                  3\n",
      "hes3                                                        1\n",
      "immature langerhans cells                                   2\n",
      "intestinal epithelial cells (polarized)                     1\n",
      "ips differentiation to neuron                               3\n",
      "iris pigment epithelial cells                               1\n",
      "keratinocyte                                                4\n",
      "keratocytes                                                 3\n",
      "lens epithelial cells                                       3\n",
      "lymphatic endothelial cells response to vegfc              48\n",
      "macrophage                                                  3\n",
      "mallassez                                                   3\n",
      "mammary epithelial cell                                     3\n",
      "mast cell                                                   9\n",
      "mature adipocyte                                            4\n",
      "medial frontal gyrus                                        1\n",
      "melanocyte                                                  9\n",
      "meningeal cells                                             3\n",
      "mesenchymal precursor cell                                 23\n",
      "mesenchymal stem cell                                       3\n",
      "mesenchymal stem cells                                     16\n",
      "mesenchymal stem cells (adipose derived)                   17\n",
      "mesenchymal stem cells adipose derived                     37\n",
      "mesothelial cells                                           3\n",
      "migratory langerhans cells                                  3\n",
      "monocyte                                                  101\n",
      "multipotent cord blood unrestricted somatic stem cells      2\n",
      "myoblast                                                    3\n",
      "myoblast differentiation to myotubes                        1\n",
      "nasal epithelial cells                                      3\n",
      "natural killer cells                                        3\n",
      "neural stem cells                                           2\n",
      "neurons                                                     3\n",
      "neutrophil pmn                                              3\n",
      "neutrophils                                                 3\n",
      "nucleus pulposus cell                                       3\n",
      "olfactory epithelial cells                                  4\n",
      "oligodendrocyte                                             1\n",
      "osteoblast                                                  6\n",
      "pancreatic stromal cells                                    1\n",
      "pericytes                                                   3\n",
      "perineurial cells                                           2\n",
      "peripheral blood mononuclear cells                          3\n",
      "placental epithelial cells                                  3\n",
      "preadipocyte                                               14\n",
      "promyelocytes/myelocytes pmc                                3\n",
      "prostate epithelial cells                                   2\n",
      "prostate epithelial cells (polarized)                       1\n",
      "prostate stromal cells                                      3\n",
      "renal cortical epithelial cells                             2\n",
      "renal epithelial cells                                      3\n",
      "renal glomerular endothelial cells                          5\n",
      "renal mesangial cells                                       3\n",
      "renal proximal tubular epithelial cell                      3\n",
      "retinal pigment epithelial cells                            4\n",
      "salivary acinar cells                                       3\n",
      "schwann cells                                               3\n",
      "sebocyte                                                    3\n",
      "sertoli cells                                               2\n",
      "skeletal muscle cells                                       6\n",
      "skeletal muscle cells differentiated into myotubes          3\n",
      "skeletal muscle satellite cells                             3\n",
      "small airway epithelial cells                               7\n",
      "smooth muscle cells                                        60\n",
      "synoviocyte                                                 3\n",
      "tenocyte                                                    3\n",
      "trabecular meshwork cells                                   3\n",
      "tracheal epithelial cells                                   3\n",
      "urothelial cells                                            4\n",
      "Name: name, dtype: int64\n"
     ]
    }
   ],
   "source": [
    "grouped = pdata_p.groupby(\"type_coarse\")\n",
    "with pd.option_context('display.max_rows', None):\n",
    "    tissue_count = grouped.count().name\n",
    "    print(tissue_count)"
   ]
  },
  {
   "cell_type": "markdown",
   "metadata": {},
   "source": [
    "Choos only cells that have at least 2 samples (otherwise we can't do crossvalidation and are even more likely to learn batch effects) "
   ]
  },
  {
   "cell_type": "code",
   "execution_count": 47,
   "metadata": {
    "collapsed": true
   },
   "outputs": [],
   "source": [
    "multi_sample_tissues = list(tissue_count.index[tissue_count >= 2])\n",
    "pdata_p = pdata_p[pdata_p.type_coarse.isin(multi_sample_tissues)]"
   ]
  },
  {
   "cell_type": "code",
   "execution_count": 48,
   "metadata": {
    "collapsed": true
   },
   "outputs": [],
   "source": [
    "exprs_p = exprs[:, pdata_p.index]\n",
    "exprs_by_gene_sum_p = exprs_by_gene_sum[:, pdata_p.index]"
   ]
  },
  {
   "cell_type": "code",
   "execution_count": 49,
   "metadata": {
    "collapsed": true
   },
   "outputs": [],
   "source": [
    "target_p = pdata_p.type_coarse.as_matrix()"
   ]
  },
  {
   "cell_type": "code",
   "execution_count": 50,
   "metadata": {
    "collapsed": false
   },
   "outputs": [
    {
     "data": {
      "text/plain": [
       "((91036, 774), (20029, 774), (774,))"
      ]
     },
     "execution_count": 50,
     "metadata": {},
     "output_type": "execute_result"
    }
   ],
   "source": [
    "exprs_p.shape, exprs_by_gene_sum_p.shape, target_p.shape"
   ]
  },
  {
   "cell_type": "markdown",
   "metadata": {},
   "source": [
    "### store data"
   ]
  },
  {
   "cell_type": "code",
   "execution_count": 51,
   "metadata": {
    "collapsed": true
   },
   "outputs": [],
   "source": [
    "np.save(\"../data/pygenesig/by_promotor/primary_exprs.npy\", exprs_p)\n",
    "np.save(\"../data/pygenesig/by_gene_sum/primary_exprs.npy\", exprs_by_gene_sum_p)"
   ]
  },
  {
   "cell_type": "code",
   "execution_count": 52,
   "metadata": {
    "collapsed": true
   },
   "outputs": [],
   "source": [
    "np.savetxt(\"../data/pygenesig/primary_target_fine.csv\", pdata_p.type_fine, delimiter=\",\", fmt=\"%s\")\n",
    "np.savetxt(\"../data/pygenesig/primary_target_coarse.csv\", pdata_p.type_coarse, delimiter=\",\", fmt=\"%s\")"
   ]
  },
  {
   "cell_type": "code",
   "execution_count": 53,
   "metadata": {
    "collapsed": false
   },
   "outputs": [],
   "source": [
    "pdata_p.to_csv(\"../data/pygenesig/primary_col_vars.csv\")"
   ]
  },
  {
   "cell_type": "code",
   "execution_count": null,
   "metadata": {
    "collapsed": true
   },
   "outputs": [],
   "source": []
  },
  {
   "cell_type": "code",
   "execution_count": null,
   "metadata": {
    "collapsed": true
   },
   "outputs": [],
   "source": []
  }
 ],
 "metadata": {
  "kernelspec": {
   "display_name": "Python [Root]",
   "language": "python",
   "name": "Python [Root]"
  },
  "language_info": {
   "codemirror_mode": {
    "name": "ipython",
    "version": 3
   },
   "file_extension": ".py",
   "mimetype": "text/x-python",
   "name": "python",
   "nbconvert_exporter": "python",
   "pygments_lexer": "ipython3",
   "version": "3.5.2"
  }
 },
 "nbformat": 4,
 "nbformat_minor": 0
}
