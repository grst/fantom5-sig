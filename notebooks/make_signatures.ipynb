{
 "cells": [
  {
   "cell_type": "code",
   "execution_count": 32,
   "metadata": {
    "collapsed": true
   },
   "outputs": [],
   "source": [
    "import sys\n",
    "sys.path.append(\"..\")\n",
    "\n",
    "import pandas as pd\n",
    "import numpy as np\n",
    "from pyfantom.signature_tools import gini"
   ]
  },
  {
   "cell_type": "markdown",
   "metadata": {},
   "source": [
    "## Make signature $\\forall$ samples\n",
    "Then look for shared genes"
   ]
  },
  {
   "cell_type": "code",
   "execution_count": 12,
   "metadata": {
    "collapsed": false
   },
   "outputs": [],
   "source": [
    "gct = pd.read_csv(\"../data/hg19.cage_peak_phase1and2combined_tpm_ann.osc.txt\", comment=\"#\", header=0, sep=\"\\t\")"
   ]
  },
  {
   "cell_type": "code",
   "execution_count": 13,
   "metadata": {
    "collapsed": false
   },
   "outputs": [],
   "source": [
    "gct = gct[2:]"
   ]
  },
  {
   "cell_type": "code",
   "execution_count": 29,
   "metadata": {
    "collapsed": true
   },
   "outputs": [],
   "source": [
    "gct_genes = gct[~pd.isnull(gct['hgnc_id'])]"
   ]
  },
  {
   "cell_type": "code",
   "execution_count": 30,
   "metadata": {
    "collapsed": false
   },
   "outputs": [],
   "source": [
    "exp = gct_genes.ix[:,7:]"
   ]
  },
  {
   "cell_type": "code",
   "execution_count": 31,
   "metadata": {
    "collapsed": false
   },
   "outputs": [
    {
     "data": {
      "text/plain": [
       "(87554, 1829)"
      ]
     },
     "execution_count": 31,
     "metadata": {},
     "output_type": "execute_result"
    }
   ],
   "source": [
    "exp.shape"
   ]
  },
  {
   "cell_type": "code",
   "execution_count": 33,
   "metadata": {
    "collapsed": false
   },
   "outputs": [],
   "source": [
    "gini_res = exp.apply(gini, axis=1)"
   ]
  },
  {
   "cell_type": "code",
   "execution_count": 34,
   "metadata": {
    "collapsed": false
   },
   "outputs": [
    {
     "data": {
      "text/plain": [
       "3         0.897613\n",
       "8         0.558630\n",
       "9         0.578292\n",
       "16        0.299974\n",
       "25        0.945552\n",
       "26        0.981025\n",
       "27        0.980720\n",
       "28        0.973309\n",
       "29        0.979569\n",
       "31        0.917911\n",
       "32        0.854878\n",
       "33        0.998526\n",
       "34        0.461163\n",
       "35        0.550628\n",
       "36        0.567387\n",
       "38        0.997534\n",
       "40        0.981879\n",
       "41        0.989700\n",
       "42        0.995325\n",
       "46        0.399896\n",
       "48        0.998070\n",
       "52        0.567464\n",
       "53        0.408077\n",
       "58        0.238656\n",
       "59        0.354396\n",
       "60        0.969129\n",
       "61        0.970059\n",
       "62        0.970526\n",
       "63        0.967063\n",
       "64        0.981452\n",
       "            ...   \n",
       "201703    0.920945\n",
       "201705    0.954583\n",
       "201706    0.709562\n",
       "201707    0.834287\n",
       "201708    0.770585\n",
       "201712    0.720872\n",
       "201713    0.735168\n",
       "201714    0.789885\n",
       "201715    0.999419\n",
       "201716    0.988381\n",
       "201746    0.998953\n",
       "201749    0.980520\n",
       "201750    0.691690\n",
       "201751    0.845150\n",
       "201758    0.680409\n",
       "201760    0.987002\n",
       "201761    0.935955\n",
       "201764    0.963313\n",
       "201770    0.963275\n",
       "201771    0.957367\n",
       "201772    0.948791\n",
       "201773    0.932727\n",
       "201776    0.809029\n",
       "201777    0.784636\n",
       "201778    0.863952\n",
       "201779    0.753202\n",
       "201780    0.780216\n",
       "201781    0.776649\n",
       "201799    0.998584\n",
       "201800    0.828471\n",
       "dtype: float64"
      ]
     },
     "execution_count": 34,
     "metadata": {},
     "output_type": "execute_result"
    }
   ],
   "source": [
    "gini_res"
   ]
  },
  {
   "cell_type": "code",
   "execution_count": null,
   "metadata": {
    "collapsed": true
   },
   "outputs": [],
   "source": []
  }
 ],
 "metadata": {
  "kernelspec": {
   "display_name": "Python 3",
   "language": "python",
   "name": "python3"
  },
  "language_info": {
   "codemirror_mode": {
    "name": "ipython",
    "version": 3
   },
   "file_extension": ".py",
   "mimetype": "text/x-python",
   "name": "python",
   "nbconvert_exporter": "python",
   "pygments_lexer": "ipython3",
   "version": "3.5.1"
  }
 },
 "nbformat": 4,
 "nbformat_minor": 0
}
