{
 "cells": [
  {
   "cell_type": "code",
   "execution_count": 2,
   "metadata": {
    "collapsed": true
   },
   "outputs": [],
   "source": [
    "from orangecontrib.bio.ontology import OBOOntology"
   ]
  },
  {
   "cell_type": "markdown",
   "metadata": {},
   "source": [
    "## Understand the cell type hierarchy\n",
    "\n",
    "In order to create cell-specific cell signatures we have to understand where to set \n",
    "the 'cut-off' in the cell-hierarchy provided by the ontology. \n",
    "\n",
    "Here I will investigate if the ontology provides information that is fine-grained enough for our purposes. "
   ]
  },
  {
   "cell_type": "code",
   "execution_count": 3,
   "metadata": {
    "collapsed": false
   },
   "outputs": [],
   "source": [
    "obo = OBOOntology()\n",
    "obo.load(open(\"data/ff-phase2-140729.obo\"))"
   ]
  },
  {
   "cell_type": "code",
   "execution_count": 4,
   "metadata": {
    "collapsed": false
   },
   "outputs": [
    {
     "data": {
      "text/plain": [
       "[OBOObject(id='BFO:0000040', name=material entity, ...),\n",
       " OBOObject(id='DOID:4', name=disease, ...),\n",
       " OBOObject(id='EFO:0000001', name=experimental factor, ...),\n",
       " OBOObject(id='FF:0000001', name=sample, ...),\n",
       " OBOObject(id='GO:0005575', name=cellular_component, ...),\n",
       " OBOObject(id='NCBITaxon:1', name=root, ...),\n",
       " OBOObject(id='UBERON:0001062', name=anatomical entity, ...)]"
      ]
     },
     "execution_count": 4,
     "metadata": {},
     "output_type": "execute_result"
    }
   ],
   "source": [
    "obo.root_terms()"
   ]
  },
  {
   "cell_type": "code",
   "execution_count": 5,
   "metadata": {
    "collapsed": false
   },
   "outputs": [
    {
     "data": {
      "text/plain": [
       "{OBOObject(id='FF:0000101', name=sample by species, ...),\n",
       " OBOObject(id='FF:0000350', name=experimentally modified sample, ...),\n",
       " OBOObject(id='FF:0000102', name=sample by type, ...)}"
      ]
     },
     "execution_count": 5,
     "metadata": {},
     "output_type": "execute_result"
    }
   ],
   "source": [
    "obo.child_terms(\"FF:0000001\")"
   ]
  },
  {
   "cell_type": "code",
   "execution_count": 13,
   "metadata": {
    "collapsed": false
   },
   "outputs": [
    {
     "data": {
      "text/plain": [
       "{OBOObject(id='FF:0000004', name=tissue sample, ...),\n",
       " OBOObject(id='FF:0000003', name=cell line sample, ...),\n",
       " OBOObject(id='FF:0000002', name=in vivo cell sample, ...)}"
      ]
     },
     "execution_count": 13,
     "metadata": {},
     "output_type": "execute_result"
    }
   ],
   "source": [
    "obo.child_terms(\"FF:0000102\")"
   ]
  },
  {
   "cell_type": "markdown",
   "metadata": {},
   "source": [
    "Essentially, I want to build a sub-tree of the DAG, starting at 'sample'"
   ]
  },
  {
   "cell_type": "code",
   "execution_count": 15,
   "metadata": {
    "collapsed": false
   },
   "outputs": [],
   "source": [
    "## doesn't work. \n",
    "obo2 = OBOOntology()\n",
    "for term in obo.sub_terms(\"FF:0000001\"): \n",
    "    obo2.add_object(term)\n",
    "obo2.write(open(\"data/subtree_sample.obo\", 'w'))"
   ]
  },
  {
   "cell_type": "code",
   "execution_count": null,
   "metadata": {
    "collapsed": true
   },
   "outputs": [],
   "source": []
  }
 ],
 "metadata": {
  "kernelspec": {
   "display_name": "Python 3",
   "language": "python",
   "name": "python3"
  },
  "language_info": {
   "codemirror_mode": {
    "name": "ipython",
    "version": 3
   },
   "file_extension": ".py",
   "mimetype": "text/x-python",
   "name": "python",
   "nbconvert_exporter": "python",
   "pygments_lexer": "ipython3",
   "version": "3.5.1"
  }
 },
 "nbformat": 4,
 "nbformat_minor": 0
}
