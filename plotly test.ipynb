{
 "cells": [
  {
   "cell_type": "code",
   "execution_count": 44,
   "metadata": {
    "collapsed": false
   },
   "outputs": [],
   "source": [
    "#import plotly.offline as py\n",
    "#py.init_notebook_mode()\n",
    "import plotly\n",
    "import plotly.plotly as py\n",
    "import plotly.graph_objs as go\n",
    "plotly.tools.set_credentials_file(username=\"grst\", api_key=\"afku7pa4yy\")\n",
    "from plotly.tools import FigureFactory as FF\n",
    "\n",
    "from orangecontrib.bio.ontology import OBOOntology, OBOObject\n",
    "\n",
    "\n",
    "import numpy as np\n",
    "import pandas as pd\n",
    "from scipy.cluster.hierarchy import linkage, dendrogram, fcluster\n",
    "from collections import Counter\n",
    "from copy import deepcopy, copy"
   ]
  },
  {
   "cell_type": "code",
   "execution_count": null,
   "metadata": {
    "collapsed": true
   },
   "outputs": [],
   "source": []
  },
  {
   "cell_type": "code",
   "execution_count": 59,
   "metadata": {
    "collapsed": true
   },
   "outputs": [],
   "source": [
    "X = np.random.rand(15, 15)\n",
    "dendro_test = FF.create_dendrogram(X)"
   ]
  },
  {
   "cell_type": "code",
   "execution_count": 60,
   "metadata": {
    "collapsed": true
   },
   "outputs": [],
   "source": [
    "def get_left_coordinate(data_item):\n",
    "    return (data_item[\"x\"][0], data_item[\"y\"][0])\n",
    "def get_right_coordinate(data_item):\n",
    "    return (data_item[\"x\"][-1], data_item[\"y\"][-1])\n",
    "def get_parent_coordinate(data_item):\n",
    "    assert data_item[\"y\"][1] == data_item[\"y\"][2]\n",
    "    return (round(np.mean(data_item[\"x\"][1:3]), 4), data_item[\"y\"][1])"
   ]
  },
  {
   "cell_type": "code",
   "execution_count": 61,
   "metadata": {
    "collapsed": false
   },
   "outputs": [],
   "source": [
    "ref_dict = {\n",
    "    get_parent_coordinate(data_item): {\n",
    "        \"left\": get_left_coordinate(data_item),\n",
    "        \"right\": get_right_coordinate(data_item)\n",
    "    } for data_item in dendro_test['data']\n",
    "}"
   ]
  },
  {
   "cell_type": "code",
   "execution_count": 62,
   "metadata": {
    "collapsed": false
   },
   "outputs": [],
   "source": [
    "dendro_with_label = copy(dendro_test)\n",
    "for coords, child_coords in ref_dict.items():\n",
    "    dendro_with_label['data'].append(\n",
    "        go.Scatter(\n",
    "            x=coords[0],\n",
    "            y=coords[1],\n",
    "            mode=\"markers\",\n",
    "            #name=\"\",\n",
    "            text=\"Multi<br>Line<br>Text\"\n",
    "        )\n",
    "    )"
   ]
  },
  {
   "cell_type": "code",
   "execution_count": 63,
   "metadata": {
    "collapsed": true
   },
   "outputs": [],
   "source": [
    "dendro_with_label['layout'].update({\n",
    "        'width':800, 'height':500,\n",
    "        'hovermode': 'closest'\n",
    "    })"
   ]
  },
  {
   "cell_type": "code",
   "execution_count": 64,
   "metadata": {
    "collapsed": false
   },
   "outputs": [
    {
     "name": "stdout",
     "output_type": "stream",
     "text": [
      "High five! You successfuly sent some data to your account on plotly. View your plot in your browser at https://plot.ly/~grst/0 or inside your plot.ly account where it is named 'simple_dendrogram'\n"
     ]
    },
    {
     "data": {
      "text/html": [
       "<iframe id=\"igraph\" scrolling=\"no\" style=\"border:none;\" seamless=\"seamless\" src=\"https://plot.ly/~grst/0.embed\" height=\"500px\" width=\"800px\"></iframe>"
      ],
      "text/plain": [
       "<plotly.tools.PlotlyDisplay object>"
      ]
     },
     "execution_count": 64,
     "metadata": {},
     "output_type": "execute_result"
    }
   ],
   "source": [
    "py.iplot(dendro_with_label, filename='simple_dendrogram')"
   ]
  },
  {
   "cell_type": "code",
   "execution_count": 19,
   "metadata": {
    "collapsed": false
   },
   "outputs": [],
   "source": [
    "obo_corr = OBOOntology()\n",
    "obo_corr.load(open(\"data/ff-phase2-140729.corr.3.obo\"))\n",
    "col_vars = pd.read_csv(\"data/column_vars.processed.csv\", index_col=0)\n",
    "lib_to_obo = {\n",
    "    lib_id: obo_id for (lib_id, obo_id) in zip(col_vars.lib_id, col_vars.obo_id)\n",
    "}"
   ]
  },
  {
   "cell_type": "code",
   "execution_count": 22,
   "metadata": {
    "collapsed": false
   },
   "outputs": [],
   "source": [
    "corr_mat_primary_df = pd.read_csv(\"data/corr_mat.primary.tsv\", sep=\" \")\n",
    "corr_mat_primary_df.rename(index=lib_to_obo, columns=lib_to_obo, inplace=True)\n",
    "corr_mat_primary_df.head()\n",
    "corr_mat_primary = corr_mat_primary_df.as_matrix()\n",
    "link_mat = linkage(corr_mat_primary, \"average\").astype(np.dtype(\"double\"))"
   ]
  },
  {
   "cell_type": "code",
   "execution_count": 74,
   "metadata": {
    "collapsed": true
   },
   "outputs": [],
   "source": [
    "dendro = FF.create_dendrogram(corr_mat_primary)"
   ]
  },
  {
   "cell_type": "code",
   "execution_count": 75,
   "metadata": {
    "collapsed": true
   },
   "outputs": [],
   "source": [
    "dendro['layout'].update({\n",
    "        'width':1000, 'height':800,\n",
    "        'hovermode': 'closest',\n",
    "        'xaxis': {\n",
    "            \"tickangle\": -90\n",
    "        }\n",
    "    })"
   ]
  },
  {
   "cell_type": "code",
   "execution_count": 76,
   "metadata": {
    "collapsed": false
   },
   "outputs": [
    {
     "name": "stdout",
     "output_type": "stream",
     "text": [
      "High five! You successfuly sent some data to your account on plotly. View your plot in your browser at https://plot.ly/~grst/0 or inside your plot.ly account where it is named 'simple_dendrogram'\n"
     ]
    },
    {
     "data": {
      "text/html": [
       "<iframe id=\"igraph\" scrolling=\"no\" style=\"border:none;\" seamless=\"seamless\" src=\"https://plot.ly/~grst/0.embed\" height=\"800px\" width=\"1200px\"></iframe>"
      ],
      "text/plain": [
       "<plotly.tools.PlotlyDisplay object>"
      ]
     },
     "execution_count": 76,
     "metadata": {},
     "output_type": "execute_result"
    }
   ],
   "source": [
    "py.iplot(dendro, filename='simple_dendrogram')\n"
   ]
  },
  {
   "cell_type": "code",
   "execution_count": null,
   "metadata": {
    "collapsed": true
   },
   "outputs": [],
   "source": []
  }
 ],
 "metadata": {
  "kernelspec": {
   "display_name": "Python 3",
   "language": "python",
   "name": "python3"
  },
  "language_info": {
   "codemirror_mode": {
    "name": "ipython",
    "version": 3
   },
   "file_extension": ".py",
   "mimetype": "text/x-python",
   "name": "python",
   "nbconvert_exporter": "python",
   "pygments_lexer": "ipython3",
   "version": "3.5.1"
  }
 },
 "nbformat": 4,
 "nbformat_minor": 0
}
