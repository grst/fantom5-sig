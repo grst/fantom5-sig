{
 "cells": [
  {
   "cell_type": "code",
   "execution_count": 21,
   "metadata": {
    "collapsed": false
   },
   "outputs": [],
   "source": [
    "#import plotly.offline as py\n",
    "#py.init_notebook_mode()\n",
    "import plotly\n",
    "import plotly.plotly as py\n",
    "import plotly.graph_objs as go\n",
    "plotly.tools.set_credentials_file(username=\"grst\", api_key=\"afku7pa4yy\")\n",
    "from plotly.tools import FigureFactory as FF\n",
    "\n",
    "from orangecontrib.bio.ontology import OBOOntology, OBOObject\n",
    "\n",
    "\n",
    "import numpy as np\n",
    "import pandas as pd\n",
    "from scipy.cluster.hierarchy import linkage, dendrogram, fcluster\n",
    "from collections import Counter"
   ]
  },
  {
   "cell_type": "code",
   "execution_count": null,
   "metadata": {
    "collapsed": true
   },
   "outputs": [],
   "source": []
  },
  {
   "cell_type": "code",
   "execution_count": 33,
   "metadata": {
    "collapsed": true
   },
   "outputs": [],
   "source": [
    "X = np.random.rand(15, 15)\n",
    "dendro_test = FF.create_dendrogram(X)\n",
    "dendro_test['layout'].update({'width':800, 'height':500})"
   ]
  },
  {
   "cell_type": "code",
   "execution_count": 34,
   "metadata": {
    "collapsed": false
   },
   "outputs": [
    {
     "data": {
      "text/plain": [
       "{'data': [{'marker': {'color': 'rgb(61,153,112)'},\n",
       "   'mode': 'lines',\n",
       "   'type': 'scatter',\n",
       "   'x': array([ 25.,  25.,  35.,  35.]),\n",
       "   'xaxis': 'x',\n",
       "   'y': array([ 0.        ,  1.13714738,  1.13714738,  0.        ]),\n",
       "   'yaxis': 'y'},\n",
       "  {'marker': {'color': 'rgb(61,153,112)'},\n",
       "   'mode': 'lines',\n",
       "   'type': 'scatter',\n",
       "   'x': array([ 15.,  15.,  30.,  30.]),\n",
       "   'xaxis': 'x',\n",
       "   'y': array([ 0.        ,  1.36851946,  1.36851946,  1.13714738]),\n",
       "   'yaxis': 'y'},\n",
       "  {'marker': {'color': 'rgb(0,116,217)'},\n",
       "   'mode': 'lines',\n",
       "   'type': 'scatter',\n",
       "   'x': array([  5. ,   5. ,  22.5,  22.5]),\n",
       "   'xaxis': 'x',\n",
       "   'y': array([ 0.        ,  1.65673471,  1.65673471,  1.36851946]),\n",
       "   'yaxis': 'y'},\n",
       "  {'marker': {'color': 'rgb(255,65,54)'},\n",
       "   'mode': 'lines',\n",
       "   'type': 'scatter',\n",
       "   'x': array([ 45.,  45.,  55.,  55.]),\n",
       "   'xaxis': 'x',\n",
       "   'y': array([ 0.        ,  1.24982337,  1.24982337,  0.        ]),\n",
       "   'yaxis': 'y'},\n",
       "  {'marker': {'color': 'rgb(35,205,205)'},\n",
       "   'mode': 'lines',\n",
       "   'type': 'scatter',\n",
       "   'x': array([ 75.,  75.,  85.,  85.]),\n",
       "   'xaxis': 'x',\n",
       "   'y': array([ 0.        ,  0.82230879,  0.82230879,  0.        ]),\n",
       "   'yaxis': 'y'},\n",
       "  {'marker': {'color': 'rgb(35,205,205)'},\n",
       "   'mode': 'lines',\n",
       "   'type': 'scatter',\n",
       "   'x': array([ 65.,  65.,  80.,  80.]),\n",
       "   'xaxis': 'x',\n",
       "   'y': array([ 0.        ,  1.33238806,  1.33238806,  0.82230879]),\n",
       "   'yaxis': 'y'},\n",
       "  {'marker': {'color': 'rgb(133,20,75)'},\n",
       "   'mode': 'lines',\n",
       "   'type': 'scatter',\n",
       "   'x': array([ 105.,  105.,  115.,  115.]),\n",
       "   'xaxis': 'x',\n",
       "   'y': array([ 0.        ,  0.71728371,  0.71728371,  0.        ]),\n",
       "   'yaxis': 'y'},\n",
       "  {'marker': {'color': 'rgb(133,20,75)'},\n",
       "   'mode': 'lines',\n",
       "   'type': 'scatter',\n",
       "   'x': array([ 135.,  135.,  145.,  145.]),\n",
       "   'xaxis': 'x',\n",
       "   'y': array([ 0.        ,  1.04200554,  1.04200554,  0.        ]),\n",
       "   'yaxis': 'y'},\n",
       "  {'marker': {'color': 'rgb(133,20,75)'},\n",
       "   'mode': 'lines',\n",
       "   'type': 'scatter',\n",
       "   'x': array([ 125.,  125.,  140.,  140.]),\n",
       "   'xaxis': 'x',\n",
       "   'y': array([ 0.        ,  1.13940095,  1.13940095,  1.04200554]),\n",
       "   'yaxis': 'y'},\n",
       "  {'marker': {'color': 'rgb(133,20,75)'},\n",
       "   'mode': 'lines',\n",
       "   'type': 'scatter',\n",
       "   'x': array([ 110. ,  110. ,  132.5,  132.5]),\n",
       "   'xaxis': 'x',\n",
       "   'y': array([ 0.71728371,  1.41075742,  1.41075742,  1.13940095]),\n",
       "   'yaxis': 'y'},\n",
       "  {'marker': {'color': 'rgb(0,116,217)'},\n",
       "   'mode': 'lines',\n",
       "   'type': 'scatter',\n",
       "   'x': array([  95.  ,   95.  ,  121.25,  121.25]),\n",
       "   'xaxis': 'x',\n",
       "   'y': array([ 0.        ,  1.64826603,  1.64826603,  1.41075742]),\n",
       "   'yaxis': 'y'},\n",
       "  {'marker': {'color': 'rgb(0,116,217)'},\n",
       "   'mode': 'lines',\n",
       "   'type': 'scatter',\n",
       "   'x': array([  72.5  ,   72.5  ,  108.125,  108.125]),\n",
       "   'xaxis': 'x',\n",
       "   'y': array([ 1.33238806,  1.70830546,  1.70830546,  1.64826603]),\n",
       "   'yaxis': 'y'},\n",
       "  {'marker': {'color': 'rgb(0,116,217)'},\n",
       "   'mode': 'lines',\n",
       "   'type': 'scatter',\n",
       "   'x': array([ 50.    ,  50.    ,  90.3125,  90.3125]),\n",
       "   'xaxis': 'x',\n",
       "   'y': array([ 1.24982337,  1.84118761,  1.84118761,  1.70830546]),\n",
       "   'yaxis': 'y'},\n",
       "  {'marker': {'color': 'rgb(0,116,217)'},\n",
       "   'mode': 'lines',\n",
       "   'type': 'scatter',\n",
       "   'x': array([ 13.75   ,  13.75   ,  70.15625,  70.15625]),\n",
       "   'xaxis': 'x',\n",
       "   'y': array([ 1.65673471,  2.02471949,  2.02471949,  1.84118761]),\n",
       "   'yaxis': 'y'}],\n",
       " 'layout': {'autosize': False,\n",
       "  'height': 500,\n",
       "  'hovermode': 'closest',\n",
       "  'showlegend': False,\n",
       "  'width': 800,\n",
       "  'xaxis': {'mirror': 'allticks',\n",
       "   'rangemode': 'tozero',\n",
       "   'showgrid': False,\n",
       "   'showline': True,\n",
       "   'showticklabels': True,\n",
       "   'tickmode': 'array',\n",
       "   'ticks': 'outside',\n",
       "   'ticktext': array(['11', '3', '0', '5', '1', '6', '2', '12', '13', '9', '4', '14',\n",
       "          '10', '7', '8'], \n",
       "         dtype='<U2'),\n",
       "   'tickvals': [5.0,\n",
       "    15.0,\n",
       "    25.0,\n",
       "    35.0,\n",
       "    45.0,\n",
       "    55.0,\n",
       "    65.0,\n",
       "    75.0,\n",
       "    85.0,\n",
       "    95.0,\n",
       "    105.0,\n",
       "    115.0,\n",
       "    125.0,\n",
       "    135.0,\n",
       "    145.0],\n",
       "   'type': 'linear',\n",
       "   'zeroline': False},\n",
       "  'yaxis': {'mirror': 'allticks',\n",
       "   'rangemode': 'tozero',\n",
       "   'showgrid': False,\n",
       "   'showline': True,\n",
       "   'showticklabels': True,\n",
       "   'ticks': 'outside',\n",
       "   'type': 'linear',\n",
       "   'zeroline': False}}}"
      ]
     },
     "execution_count": 34,
     "metadata": {},
     "output_type": "execute_result"
    }
   ],
   "source": [
    "dendro_test"
   ]
  },
  {
   "cell_type": "raw",
   "metadata": {},
   "source": [
    "# dict (x,y) -> {\"left\": (x, y), \"right\": (x, y)}"
   ]
  },
  {
   "cell_type": "code",
   "execution_count": 37,
   "metadata": {
    "collapsed": true
   },
   "outputs": [],
   "source": [
    "def get_left_coordinate(data_item):\n",
    "    return (data_item[\"x\"][0], data_item[\"y\"][0])\n",
    "def get_right_coordinate(data_item):\n",
    "    return (data_item[\"x\"][-1], data_item[\"y\"][-1])\n",
    "def get_parent_coordinate(data_item):\n",
    "    assert data_item[\"y\"][1] == data_item[\"y\"][2]\n",
    "    return (round(np.mean(data_item[\"x\"][1:3]), 4), data_item[\"y\"][1])"
   ]
  },
  {
   "cell_type": "code",
   "execution_count": 38,
   "metadata": {
    "collapsed": false
   },
   "outputs": [],
   "source": [
    "ref_dict = {\n",
    "    get_parent_coordinate(data_item): {\n",
    "        \"left\": get_left_coordinate(data_item),\n",
    "        \"right\": get_right_coordinate(data_item)\n",
    "    } for data_item in dendro_test['data']\n",
    "}"
   ]
  },
  {
   "cell_type": "code",
   "execution_count": null,
   "metadata": {
    "collapsed": true
   },
   "outputs": [],
   "source": []
  },
  {
   "cell_type": "code",
   "execution_count": 10,
   "metadata": {
    "collapsed": false
   },
   "outputs": [],
   "source": [
    "trace1 = go.Scatter(\n",
    "    x=[12.5],\n",
    "    y=[1.592649],\n",
    "    mode=\"text\",\n",
    "    name=\"Test\", \n",
    "    text=['Multi1\\nLine2\\nText\\\\t'])"
   ]
  },
  {
   "cell_type": "code",
   "execution_count": null,
   "metadata": {
    "collapsed": true
   },
   "outputs": [],
   "source": []
  },
  {
   "cell_type": "code",
   "execution_count": 32,
   "metadata": {
    "collapsed": false
   },
   "outputs": [
    {
     "name": "stdout",
     "output_type": "stream",
     "text": [
      "High five! You successfuly sent some data to your account on plotly. View your plot in your browser at https://plot.ly/~grst/0 or inside your plot.ly account where it is named 'simple_dendrogram'\n"
     ]
    },
    {
     "data": {
      "text/html": [
       "<iframe id=\"igraph\" scrolling=\"no\" style=\"border:none;\" seamless=\"seamless\" src=\"https://plot.ly/~grst/0.embed\" height=\"800px\" width=\"1200px\"></iframe>"
      ],
      "text/plain": [
       "<plotly.tools.PlotlyDisplay object>"
      ]
     },
     "execution_count": 32,
     "metadata": {},
     "output_type": "execute_result"
    }
   ],
   "source": [
    "py.iplot(dendro, filename='simple_dendrogram')"
   ]
  },
  {
   "cell_type": "code",
   "execution_count": 11,
   "metadata": {
    "collapsed": true
   },
   "outputs": [],
   "source": [
    "layout = go.Layout(\n",
    "    showlegend=False\n",
    ")"
   ]
  },
  {
   "cell_type": "code",
   "execution_count": 12,
   "metadata": {
    "collapsed": false
   },
   "outputs": [],
   "source": [
    "fig = go.Figure(data=[trace1], layout=layout)"
   ]
  },
  {
   "cell_type": "code",
   "execution_count": 13,
   "metadata": {
    "collapsed": false
   },
   "outputs": [
    {
     "name": "stderr",
     "output_type": "stream",
     "text": [
      "/homebasel/biocomp/sturmg/.local/lib/python3.5/site-packages/plotly/tools.py:1392: UserWarning:\n",
      "\n",
      "Looks like you used a newline character: '\\n'.\n",
      "\n",
      "Plotly uses a subset of HTML escape characters\n",
      "to do things like newline (<br>), bold (<b></b>),\n",
      "italics (<i></i>), etc. Your newline characters \n",
      "have been converted to '<br>' so they will show \n",
      "up right on your Plotly figure!\n",
      "\n"
     ]
    },
    {
     "data": {
      "text/html": [
       "<iframe id=\"igraph\" scrolling=\"no\" style=\"border:none;\" seamless=\"seamless\" src=\"https://plot.ly/~grst/4.embed\" height=\"525px\" width=\"100%\"></iframe>"
      ],
      "text/plain": [
       "<plotly.tools.PlotlyDisplay object>"
      ]
     },
     "execution_count": 13,
     "metadata": {},
     "output_type": "execute_result"
    }
   ],
   "source": [
    "py.iplot(fig, filename='test')"
   ]
  },
  {
   "cell_type": "code",
   "execution_count": null,
   "metadata": {
    "collapsed": false
   },
   "outputs": [],
   "source": [
    "py.plot([trace1])"
   ]
  },
  {
   "cell_type": "code",
   "execution_count": null,
   "metadata": {
    "collapsed": false
   },
   "outputs": [],
   "source": [
    "trace1 = go.Scatter(\n",
    "    x=[0, 1, 2],\n",
    "    y=[1, 1, 1],\n",
    "    mode='lines+markers+text',\n",
    "    name='Lines, Markers and Text',\n",
    "    text=['Text A', 'Text B', 'Text C'],\n",
    "    textposition='top'\n",
    ")\n",
    "trace2 = go.Scatter(\n",
    "    x=[0, 1, 2],\n",
    "    y=[2, 2, 2],\n",
    "    mode='markers+text',\n",
    "    name='Markers and Text',\n",
    "    text=['Text D', 'Text E', 'Text F'],\n",
    "    textposition='bottom'\n",
    ")\n",
    "trace3 = go.Scatter(\n",
    "    x=[0, 1, 2],\n",
    "    y=[3, 3, 3],\n",
    "    mode='lines+text',\n",
    "    name='Lines and Text',\n",
    "    text=['Text G', 'Text H', 'Text I'],\n",
    "    textposition='bottom'\n",
    ")\n",
    "data = [trace1, trace2, trace3]\n",
    "layout = go.Layout(\n",
    "    showlegend=False\n",
    ")\n",
    "fig = go.Figure(data=data, layout=layout)\n",
    "plot_url = py.plot(fig, filename='text-chart-basic')"
   ]
  },
  {
   "cell_type": "code",
   "execution_count": 19,
   "metadata": {
    "collapsed": false
   },
   "outputs": [],
   "source": [
    "obo_corr = OBOOntology()\n",
    "obo_corr.load(open(\"data/ff-phase2-140729.corr.3.obo\"))\n",
    "col_vars = pd.read_csv(\"data/column_vars.processed.csv\", index_col=0)\n",
    "lib_to_obo = {\n",
    "    lib_id: obo_id for (lib_id, obo_id) in zip(col_vars.lib_id, col_vars.obo_id)\n",
    "}"
   ]
  },
  {
   "cell_type": "code",
   "execution_count": 22,
   "metadata": {
    "collapsed": false
   },
   "outputs": [],
   "source": [
    "corr_mat_primary_df = pd.read_csv(\"data/corr_mat.primary.tsv\", sep=\" \")\n",
    "corr_mat_primary_df.rename(index=lib_to_obo, columns=lib_to_obo, inplace=True)\n",
    "corr_mat_primary_df.head()\n",
    "corr_mat_primary = corr_mat_primary_df.as_matrix()\n",
    "link_mat = linkage(corr_mat_primary, \"average\").astype(np.dtype(\"double\"))"
   ]
  },
  {
   "cell_type": "code",
   "execution_count": 29,
   "metadata": {
    "collapsed": true
   },
   "outputs": [],
   "source": [
    "dendro = FF.create_dendrogram(corr_mat_primary)"
   ]
  },
  {
   "cell_type": "code",
   "execution_count": 30,
   "metadata": {
    "collapsed": true
   },
   "outputs": [],
   "source": [
    "dendro['layout'].update({\n",
    "        'width':1200, 'height':800,\n",
    "        'hovermode': False\n",
    "    })"
   ]
  },
  {
   "cell_type": "code",
   "execution_count": 31,
   "metadata": {
    "collapsed": false
   },
   "outputs": [
    {
     "name": "stdout",
     "output_type": "stream",
     "text": [
      "High five! You successfuly sent some data to your account on plotly. View your plot in your browser at https://plot.ly/~grst/0 or inside your plot.ly account where it is named 'simple_dendrogram'\n"
     ]
    },
    {
     "data": {
      "text/html": [
       "<iframe id=\"igraph\" scrolling=\"no\" style=\"border:none;\" seamless=\"seamless\" src=\"https://plot.ly/~grst/0.embed\" height=\"800px\" width=\"1200px\"></iframe>"
      ],
      "text/plain": [
       "<plotly.tools.PlotlyDisplay object>"
      ]
     },
     "execution_count": 31,
     "metadata": {},
     "output_type": "execute_result"
    }
   ],
   "source": [
    "py.iplot(dendro, filename='simple_dendrogram')\n"
   ]
  },
  {
   "cell_type": "code",
   "execution_count": null,
   "metadata": {
    "collapsed": true
   },
   "outputs": [],
   "source": []
  }
 ],
 "metadata": {
  "kernelspec": {
   "display_name": "Python 3",
   "language": "python",
   "name": "python3"
  },
  "language_info": {
   "codemirror_mode": {
    "name": "ipython",
    "version": 3
   },
   "file_extension": ".py",
   "mimetype": "text/x-python",
   "name": "python",
   "nbconvert_exporter": "python",
   "pygments_lexer": "ipython3",
   "version": "3.5.1"
  }
 },
 "nbformat": 4,
 "nbformat_minor": 0
}
